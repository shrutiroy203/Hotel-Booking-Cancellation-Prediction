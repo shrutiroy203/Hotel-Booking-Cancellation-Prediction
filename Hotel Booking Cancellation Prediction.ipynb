{
  "cells": [
    {
      "cell_type": "markdown",
      "source": "# Hotel Booking Cancellation Prediction",
      "metadata": {
        "cell_id": "00000-e2449e85-6c88-4f2d-ab08-344176ea0efe",
        "deepnote_cell_type": "markdown"
      }
    },
    {
      "cell_type": "markdown",
      "source": "## 1.1 Research Question:",
      "metadata": {
        "cell_id": "00001-36fbf691-10aa-450a-a3ae-04cb67e4f6c3",
        "deepnote_cell_type": "markdown"
      }
    },
    {
      "cell_type": "markdown",
      "source": "#### 1. The aim of this project is to predict a hotel booking׳s likelihood to be canceled. The data includes hotel booking information of two hotels: a city hotel (H1) and resort hotel (H2) and total 31 features in the dataset. \n\n#### 2. The model aims to understand bookings made from  July of 2015 to the 31st of August 2017, and predict successfully based on booking characteristics, whether a customer has a higher chance of cancellation.  \n\n#### 3. This model will be really useful in identifying potential customers who can cancel and help hotels actively incentivise/penalise the customers depending on the marketing strategy",
      "metadata": {
        "cell_id": "00002-6a1706a5-481e-4f40-a1ac-95723ce6d253",
        "deepnote_cell_type": "markdown"
      }
    },
    {
      "cell_type": "code",
      "metadata": {
        "cell_id": "00003-74d1603c-c1f5-4327-b562-0e5541ee9c7b",
        "deepnote_to_be_reexecuted": false,
        "source_hash": "a102765d",
        "execution_millis": 19590,
        "output_cleared": false,
        "execution_start": 1615520385906,
        "deepnote_cell_type": "code"
      },
      "source": "# Installing the required packages\n!pip install -r requirements.txt",
      "execution_count": 1,
      "outputs": [
        {
          "name": "stdout",
          "text": "Collecting category_encoders==2.2.2\n  Downloading category_encoders-2.2.2-py2.py3-none-any.whl (80 kB)\n\u001b[K     |████████████████████████████████| 80 kB 11.9 MB/s \n\u001b[?25hCollecting xgboost==1.3.3\n  Downloading xgboost-1.3.3-py3-none-manylinux2010_x86_64.whl (157.5 MB)\n\u001b[K     |████████████████████████████████| 157.5 MB 121 kB/s \n\u001b[?25hCollecting imblearn==0.0\n  Downloading imblearn-0.0-py2.py3-none-any.whl (1.9 kB)\nCollecting eli5==0.11.0\n  Downloading eli5-0.11.0-py2.py3-none-any.whl (106 kB)\n\u001b[K     |████████████████████████████████| 106 kB 82.7 MB/s \n\u001b[?25hRequirement already satisfied: pandas>=0.21.1 in /shared-libs/python3.7/py/lib/python3.7/site-packages (from category_encoders==2.2.2->-r requirements.txt (line 1)) (1.2.3)\nRequirement already satisfied: scikit-learn>=0.20.0 in /shared-libs/python3.7/py/lib/python3.7/site-packages (from category_encoders==2.2.2->-r requirements.txt (line 1)) (0.24.1)\nCollecting patsy>=0.5.1\n  Downloading patsy-0.5.1-py2.py3-none-any.whl (231 kB)\n\u001b[K     |████████████████████████████████| 231 kB 75.2 MB/s \n\u001b[?25hRequirement already satisfied: numpy>=1.14.0 in /shared-libs/python3.7/py/lib/python3.7/site-packages (from category_encoders==2.2.2->-r requirements.txt (line 1)) (1.19.5)\nRequirement already satisfied: scipy>=1.0.0 in /shared-libs/python3.7/py/lib/python3.7/site-packages (from category_encoders==2.2.2->-r requirements.txt (line 1)) (1.6.1)\nCollecting statsmodels>=0.9.0\n  Downloading statsmodels-0.12.2-cp37-cp37m-manylinux1_x86_64.whl (9.5 MB)\n\u001b[K     |████████████████████████████████| 9.5 MB 72.9 MB/s \n\u001b[?25hCollecting imbalanced-learn\n  Downloading imbalanced_learn-0.8.0-py3-none-any.whl (206 kB)\n\u001b[K     |████████████████████████████████| 206 kB 78.4 MB/s \n\u001b[?25hRequirement already satisfied: jinja2 in /shared-libs/python3.7/py-core/lib/python3.7/site-packages (from eli5==0.11.0->-r requirements.txt (line 4)) (2.11.3)\nRequirement already satisfied: six in /shared-libs/python3.7/py-core/lib/python3.7/site-packages (from eli5==0.11.0->-r requirements.txt (line 4)) (1.15.0)\nCollecting graphviz\n  Downloading graphviz-0.16-py2.py3-none-any.whl (19 kB)\nRequirement already satisfied: tabulate>=0.7.7 in /shared-libs/python3.7/py/lib/python3.7/site-packages (from eli5==0.11.0->-r requirements.txt (line 4)) (0.8.9)\nRequirement already satisfied: attrs>16.0.0 in /shared-libs/python3.7/py-core/lib/python3.7/site-packages (from eli5==0.11.0->-r requirements.txt (line 4)) (20.3.0)\nRequirement already satisfied: pytz>=2017.3 in /shared-libs/python3.7/py/lib/python3.7/site-packages (from pandas>=0.21.1->category_encoders==2.2.2->-r requirements.txt (line 1)) (2021.1)\nRequirement already satisfied: python-dateutil>=2.7.3 in /shared-libs/python3.7/py-core/lib/python3.7/site-packages (from pandas>=0.21.1->category_encoders==2.2.2->-r requirements.txt (line 1)) (2.8.1)\nRequirement already satisfied: threadpoolctl>=2.0.0 in /shared-libs/python3.7/py/lib/python3.7/site-packages (from scikit-learn>=0.20.0->category_encoders==2.2.2->-r requirements.txt (line 1)) (2.1.0)\nRequirement already satisfied: joblib>=0.11 in /shared-libs/python3.7/py/lib/python3.7/site-packages (from scikit-learn>=0.20.0->category_encoders==2.2.2->-r requirements.txt (line 1)) (1.0.1)\nRequirement already satisfied: MarkupSafe>=0.23 in /shared-libs/python3.7/py-core/lib/python3.7/site-packages (from jinja2->eli5==0.11.0->-r requirements.txt (line 4)) (1.1.1)\nInstalling collected packages: patsy, statsmodels, category-encoders, xgboost, imbalanced-learn, imblearn, graphviz, eli5\nSuccessfully installed category-encoders-2.2.2 eli5-0.11.0 graphviz-0.16 imbalanced-learn-0.8.0 imblearn-0.0 patsy-0.5.1 statsmodels-0.12.2 xgboost-1.3.3\n\u001b[33mWARNING: You are using pip version 20.1.1; however, version 21.0.1 is available.\nYou should consider upgrading via the '/root/venv/bin/python -m pip install --upgrade pip' command.\u001b[0m\n",
          "output_type": "stream"
        }
      ]
    },
    {
      "cell_type": "code",
      "metadata": {
        "cell_id": "00004-169423a1-26a9-462d-a74a-45c3623db19e",
        "deepnote_to_be_reexecuted": false,
        "source_hash": "31fdb49e",
        "execution_millis": 12,
        "execution_start": 1615534804621,
        "deepnote_cell_type": "code"
      },
      "source": "from   category_encoders          import *\nimport numpy as np\nimport pandas as pd\nfrom   sklearn.compose            import *\nfrom   sklearn.ensemble           import *\nfrom   sklearn.experimental       import *\nfrom   sklearn.impute             import *\nfrom   sklearn.linear_model       import *\nfrom   sklearn.metrics            import * \nfrom   sklearn.pipeline           import *\nfrom   sklearn.preprocessing      import *\nfrom   sklearn.tree               import *\nfrom   sklearn.model_selection    import *\nimport xgboost as xgb\nimport matplotlib.pyplot as plt\nfrom sklearn.base            import BaseEstimator\nfrom imblearn      import pipeline\nimport imblearn\nimport eli5\nfrom sklearn.model_selection import RandomizedSearchCV\nfrom eli5.sklearn import PermutationImportance\nfrom sklearn.inspection import permutation_importance\nimport seaborn as sns",
      "execution_count": 71,
      "outputs": []
    },
    {
      "cell_type": "code",
      "metadata": {
        "cell_id": "00005-7e644799-08f4-4fe7-935a-fbf3420253a9",
        "deepnote_to_be_reexecuted": false,
        "source_hash": "10465eea",
        "execution_millis": 1,
        "execution_start": 1615523407009,
        "deepnote_cell_type": "code"
      },
      "source": "def confusio_matrix(y_test, y_predicted):\n    \n    cm = confusion_matrix(y_test, y_predicted)\n    plt.figure(figsize=(10,10))\n    plt.clf()\n    plt.imshow(cm, interpolation='nearest', cmap=plt.cm.Wistia)\n    classNames = ['Negative','Positive']\n    plt.title('Confusion Matrix')\n    plt.ylabel('True label')\n    plt.xlabel('Predicted label')\n    tick_marks = np.arange(len(classNames))\n    plt.xticks(tick_marks, classNames, rotation=45)\n    plt.yticks(tick_marks, classNames)\n    s = [['TN','FP'], ['FN', 'TP']]\n    for i in range(2):\n        for j in range(2):\n            plt.text(j,i, str(s[i][j])+\" = \"+str(cm[i][j]))\n    plt.show()",
      "execution_count": 3,
      "outputs": []
    },
    {
      "cell_type": "code",
      "metadata": {
        "cell_id": "00006-2ca22425-2bda-420a-928c-c0dcc328ffff",
        "deepnote_to_be_reexecuted": false,
        "source_hash": "fc5d9caa",
        "execution_millis": 353,
        "execution_start": 1615523407358,
        "deepnote_cell_type": "code"
      },
      "source": "hotel = pd.read_csv(\"hotel_bookings.csv\")",
      "execution_count": 4,
      "outputs": []
    },
    {
      "cell_type": "code",
      "metadata": {
        "cell_id": "00007-d08ff7c4-ab9c-4c99-9fb7-cda862c68a30",
        "deepnote_to_be_reexecuted": false,
        "source_hash": "233f021c",
        "execution_millis": 0,
        "execution_start": 1615523407789,
        "deepnote_cell_type": "code"
      },
      "source": "# Dropping irrelevant columns\ny=hotel.iloc[:,1]\nX=hotel",
      "execution_count": 5,
      "outputs": []
    },
    {
      "cell_type": "code",
      "metadata": {
        "tags": [],
        "cell_id": "00008-1ab908e7-f5a3-412c-81f6-84994fec628a",
        "deepnote_to_be_reexecuted": false,
        "source_hash": "3af38347",
        "execution_millis": 68,
        "execution_start": 1615523408151,
        "deepnote_cell_type": "code"
      },
      "source": "# Creating a Train and test dataset. We set a random state so we can have reproducible Train and Test dataset for our project\n# We then put the test set away and not peek at it until we chose our model! .\nX_train, X_test, y_train, y_test = train_test_split(X, y,random_state=10)",
      "execution_count": 6,
      "outputs": []
    },
    {
      "cell_type": "markdown",
      "source": "## 1.2  Feature engineering and pipeline creation",
      "metadata": {
        "cell_id": "00008-018ddf18-31db-4761-92a2-64328743b4bc",
        "deepnote_cell_type": "markdown"
      }
    },
    {
      "cell_type": "code",
      "metadata": {
        "cell_id": "00011-43fb6ae6-61cf-4386-b22f-610cb1a283bb",
        "deepnote_to_be_reexecuted": false,
        "source_hash": "cde7f981",
        "execution_millis": 1,
        "execution_start": 1615523410412,
        "deepnote_cell_type": "code"
      },
      "source": "# Creating a class dummy estimator for pipeline\nclass DummyEstimator(BaseEstimator):\n    \"Pass through class, methods are present but do nothing.\"\n    def fit(self): pass\n    def score(self): pass",
      "execution_count": 7,
      "outputs": []
    },
    {
      "cell_type": "code",
      "metadata": {
        "cell_id": "00012-e4da6084-c187-42cf-9da3-c24723d6df37",
        "deepnote_to_be_reexecuted": false,
        "source_hash": "7d14e208",
        "execution_millis": 5,
        "execution_start": 1615523413129,
        "deepnote_cell_type": "code"
      },
      "source": "# Selecting categorical columns while removing irrelevant columns \ncategorical_cols = (X.dtypes == object)\ncategorical_cols[['is_canceled','company','reservation_status','reservation_status_date','agent']]=False\n\n\n# Selecting continuous columns while removing irrelevant columns \ncontinuous_cols = (X.dtypes != object)\ncontinuous_cols[['is_canceled','company','reservation_status','reservation_status_date','agent']]=False\n\n#Applying transformation on columns\n#OneHotEncoding Categorical variables\n# Scaling the Continuous data\npreprocessing = ColumnTransformer([\n                                ('categorical', OneHotEncoder(handle_unknown='ignore'),categorical_cols ),\n                                ('continuous', QuantileTransformer(), continuous_cols)\n                                ])\n\n# Using simpleimputer to handle missing values. We are replacing the values with most frequent values \npipe = Pipeline([\n                ('imputation',SimpleImputer(missing_values=np.nan,strategy=\"most_frequent\")),\n                ('preprocessing',preprocessing),\n                ('MC',DummyEstimator())]) \n",
      "execution_count": 8,
      "outputs": []
    },
    {
      "cell_type": "markdown",
      "source": "## 1.2.2 Creating custom evaluation metrics",
      "metadata": {
        "tags": [],
        "cell_id": "00012-afc05180-e23e-4d02-8f28-3d091161f218",
        "deepnote_cell_type": "markdown"
      }
    },
    {
      "cell_type": "code",
      "metadata": {
        "tags": [],
        "cell_id": "00012-0da0ea08-a8b2-4312-8d0c-34924fb0f718",
        "deepnote_to_be_reexecuted": false,
        "source_hash": "b26200dc",
        "execution_millis": 0,
        "execution_start": 1615524201949,
        "deepnote_cell_type": "code"
      },
      "source": "# We create a weighted f1 and recall score which is our evaluation metric for choosing models. Weighted F1 is sensitive to class imbalance,and will give a balanced accuracy score\n# We do not choose AUC, since AUC can be misleading for class imbalanced datasets\n# We create weighted evaluation metrics which will be an input to our Grid Search CV\n\nfrom sklearn.metrics import f1_score, make_scorer\nf1_weighted= make_scorer(f1_score , average='weighted')\nrecall_weighted=make_scorer(recall_score,average='weighted')",
      "execution_count": 9,
      "outputs": []
    },
    {
      "cell_type": "markdown",
      "source": "## 1.3 Hyperparameter Tuning for Random Forest ",
      "metadata": {
        "cell_id": "00013-d03c0538-0556-4b34-9f77-704f1a3cac9d",
        "deepnote_cell_type": "markdown"
      }
    },
    {
      "cell_type": "code",
      "metadata": {
        "cell_id": "00014-cb0d2076-fdcb-49d4-a26c-e70d7e52b176",
        "deepnote_to_be_reexecuted": false,
        "source_hash": "dd99eaad",
        "execution_millis": 0,
        "execution_start": 1615271779171,
        "deepnote_cell_type": "code"
      },
      "source": "# The following hyperparameters are useful when tuning a RF model:\n# 1. Criterion: Gini criterion is usually much faster computationally than entropy. On the other hand in some instances entropy can have better results. we choose both\n# 2. Max_depth: Higher the max depth more complex is the model. hence its best to keep this value lower\n# 3. Min Samples Leaf: Similar to max depth value, it controls complexity. Too low a value leads to overfitting, too high a value leads to underfitting\n# 4. Class Weight: Since we are dealing with imbalanced dataset, it would help to choose 'balanced' version of class weights\n# 5. N_estimators: the number of trees we want to look at before taking maximum voting of predictions. too high a value can lead to overfitting\n# 6. Bootstrap: Bootstrapping can be good to help increase model generality as it looks at different samples. at the same time sometimes it can lead to underfitting. So we include both options\n# 7. Max Features: this refers to the number of features should be randomly considered for each split. Log selects lesser number of random features which can speed up the model or prevent model from overfitting\n\n\nsearch_space = [\n                {'MC': [RandomForestClassifier()],  # Actual Estimator\n                     'MC__criterion': ['gini', 'entropy'],\n                     'MC__max_depth':[5,10,15],\n                     'MC__min_samples_leaf':[5,10],\n                     'MC__class_weight':['balanced'],\n                     'MC__n_estimators':[10,50],\n                     'MC__bootstrap':[True,False],\n                     'MC__max_features':['sqrt','log2']\n                     \n                     }\n                     \n                     ]",
      "execution_count": null,
      "outputs": []
    },
    {
      "cell_type": "markdown",
      "source": "### 1.3.2 Cross Validation and Randomized grid search for Random Forest model",
      "metadata": {
        "cell_id": "00015-e8c87361-ec7a-4042-a024-765c5950324c",
        "deepnote_cell_type": "markdown"
      }
    },
    {
      "cell_type": "code",
      "metadata": {
        "cell_id": "00016-45445ee2-3bc2-43ff-8a60-b20e404f6185",
        "deepnote_to_be_reexecuted": false,
        "source_hash": "a2816b86",
        "execution_millis": 133604,
        "execution_start": 1615271807114,
        "deepnote_cell_type": "code"
      },
      "source": "# Grid Search randomly selects parameters from search_space, and scores the candidate models on validation datasets \nrandom_search = RandomizedSearchCV(pipe, search_space,scoring={\"f1_score\":f1_weighted,\"recall\":recall_weighted},cv=5,refit=\"f1_score\",n_jobs = -1)\nsearch=random_search.fit(X_train,y_train)",
      "execution_count": null,
      "outputs": []
    },
    {
      "cell_type": "markdown",
      "source": "### 1.3.3 The best estimator found through Randomised Search CV for Random Forest",
      "metadata": {
        "cell_id": "00017-9f4bcac5-29da-48b0-971f-3e2ea4d3484f",
        "deepnote_cell_type": "markdown"
      }
    },
    {
      "cell_type": "code",
      "metadata": {
        "cell_id": "00018-04b37f78-00ac-4241-a949-064d9b3cc3f8",
        "deepnote_to_be_reexecuted": false,
        "source_hash": "cd752d9c",
        "execution_millis": 57,
        "execution_start": 1615271940755,
        "deepnote_cell_type": "code"
      },
      "source": "# The best model fitted during cross validation\nsearch.best_estimator_",
      "execution_count": null,
      "outputs": [
        {
          "output_type": "execute_result",
          "execution_count": 13,
          "data": {
            "text/plain": "Pipeline(steps=[('imputation', SimpleImputer(strategy='most_frequent')),\n                ('preprocessing',\n                 ColumnTransformer(transformers=[('categorical',\n                                                  OneHotEncoder(handle_unknown='ignore'),\n                                                  hotel                              True\nis_canceled                       False\nlead_time                         False\narrival_date_year                 False\narrival_date_month                 True\narrival_date_week_number          False\narrival_date_day_of_month         False\nstays_in_weekend_nights           False\nstays_...\nagent                             False\ncompany                           False\ndays_in_waiting_list               True\ncustomer_type                     False\nadr                                True\nrequired_car_parking_spaces        True\ntotal_of_special_requests          True\nreservation_status                False\nreservation_status_date           False\ndtype: bool)])),\n                ('MC',\n                 RandomForestClassifier(bootstrap=False,\n                                        class_weight='balanced',\n                                        criterion='entropy', max_depth=15,\n                                        max_features='sqrt', min_samples_leaf=5,\n                                        n_estimators=10))])"
          },
          "metadata": {}
        }
      ]
    },
    {
      "cell_type": "code",
      "metadata": {
        "cell_id": "00019-ee6327cb-6066-412f-9b2c-e3f103bc9753",
        "deepnote_to_be_reexecuted": false,
        "source_hash": "7b5e8705",
        "execution_millis": 12,
        "execution_start": 1615271940800,
        "deepnote_cell_type": "code"
      },
      "source": "# The best score found during the cross validation\nsearch.best_score_",
      "execution_count": null,
      "outputs": [
        {
          "output_type": "execute_result",
          "execution_count": 14,
          "data": {
            "text/plain": "0.8440596192680928"
          },
          "metadata": {}
        }
      ]
    },
    {
      "cell_type": "markdown",
      "source": "## 1.4 Hyperparameter Tuning for Regularised Logistic Regression",
      "metadata": {
        "cell_id": "00020-64d57da7-02d1-4cc5-af9c-a6e1e08e3d15",
        "deepnote_cell_type": "markdown"
      }
    },
    {
      "cell_type": "code",
      "metadata": {
        "cell_id": "00021-ed0f2d7d-7a0c-482a-9d03-4cf04144c296",
        "deepnote_to_be_reexecuted": false,
        "source_hash": "b136d50c",
        "execution_millis": 6,
        "execution_start": 1615272501688,
        "deepnote_cell_type": "code"
      },
      "source": "##  The following hyperparameters are useful when tuning a Logistic model:\n# 1. penalty: Since we have large number of features, regularisation will always help. Either L1 or L2 can give better results\n# 2. C: it is the penalty parameter, higher the value, higher the penalty on large coefficients\n# 3. class_weight: since we are dealing with an imbalanced dataset, its better to test for 'balanced' parameter\n# 4. solver: liblinear solver is generally the fastest. newton-cg uses linear conjugate gradient algo helping \n# to converge to an optimal solution faster, hence we will consider both\n\nsearch_space_log=[{'MC': [LogisticRegression()], # Actual Estimator\n                     'MC__penalty': [ 'l2' ,'l1'],\n                     'MC__C': np.logspace(0, 5, 20),\n                     'MC__class_weight':['balanced',None],\n                     'MC__solver':['liblinear','newton-cg'],\n                     'MC__fit_intercept':[True,False]\n              }]",
      "execution_count": null,
      "outputs": []
    },
    {
      "cell_type": "markdown",
      "source": "### 1.4.2 Cross Validation and Randomized grid search for Logistic Regression",
      "metadata": {
        "cell_id": "00022-36a71e47-4401-450c-babb-5d9d87f65958",
        "deepnote_cell_type": "markdown"
      }
    },
    {
      "cell_type": "code",
      "metadata": {
        "cell_id": "00023-b90d3559-9f38-4d66-8819-66b5fa0c1b3d",
        "deepnote_to_be_reexecuted": false,
        "source_hash": "721017e4",
        "execution_millis": 798780,
        "execution_start": 1615272502622,
        "deepnote_cell_type": "code"
      },
      "source": "# Grid Search randomly selects parameters from search_space_log, and scores the candidate models on validation datasets \n\nrandom_search = RandomizedSearchCV(pipe, search_space_log,scoring={\"f1_score\":f1_weighted,\"recall\":recall_weighted},cv=5,refit=\"f1_score\",n_jobs = -1)\nsearch=random_search.fit(X_train,y_train)",
      "execution_count": null,
      "outputs": [
        {
          "name": "stderr",
          "text": "/shared-libs/python3.7/py/lib/python3.7/site-packages/sklearn/model_selection/_search.py:921: UserWarning: One or more of the test scores are non-finite: [0.8248759  0.82577819 0.82579041 0.82590915 0.82585695        nan\n        nan 0.82588476 0.82585318 0.82592435]\n  category=UserWarning\n/shared-libs/python3.7/py/lib/python3.7/site-packages/sklearn/model_selection/_search.py:921: UserWarning: One or more of the test scores are non-finite: [0.82362464 0.82906341 0.82907457 0.82918626 0.82914159        nan\n        nan 0.82916392 0.82913042 0.82923093]\n  category=UserWarning\n",
          "output_type": "stream"
        }
      ]
    },
    {
      "cell_type": "markdown",
      "source": "### The best estimator found through Randomised Search CV for Logistic Reg",
      "metadata": {
        "cell_id": "00024-4c510898-29df-4077-a546-88fb33ab8481",
        "deepnote_cell_type": "markdown"
      }
    },
    {
      "cell_type": "code",
      "metadata": {
        "cell_id": "00025-907e11f1-a755-476e-b642-327a80879554",
        "deepnote_to_be_reexecuted": false,
        "source_hash": "cd752d9c",
        "execution_millis": 96,
        "execution_start": 1615273301408,
        "deepnote_cell_type": "code"
      },
      "source": "# The best model fitted during cross validation\nsearch.best_estimator_",
      "execution_count": null,
      "outputs": [
        {
          "output_type": "execute_result",
          "execution_count": 40,
          "data": {
            "text/plain": "Pipeline(steps=[('imputation', SimpleImputer(strategy='most_frequent')),\n                ('preprocessing',\n                 ColumnTransformer(transformers=[('categorical',\n                                                  OneHotEncoder(handle_unknown='ignore'),\n                                                  hotel                              True\nis_canceled                       False\nlead_time                         False\narrival_date_year                 False\narrival_date_month                 True\narrival_date_week_number          False\narrival_date_day_of_month         False\nstays_in_weekend_nights           False\nstays_...\nreserved_room_type                False\nassigned_room_type                False\nbooking_changes                    True\ndeposit_type                      False\nagent                             False\ncompany                           False\ndays_in_waiting_list               True\ncustomer_type                     False\nadr                                True\nrequired_car_parking_spaces        True\ntotal_of_special_requests          True\nreservation_status                False\nreservation_status_date           False\ndtype: bool)])),\n                ('MC',\n                 LogisticRegression(C=1.8329807108324359, fit_intercept=False,\n                                    solver='liblinear'))])"
          },
          "metadata": {}
        }
      ]
    },
    {
      "cell_type": "code",
      "metadata": {
        "cell_id": "00026-7adc65d5-f3cd-411b-8f14-22eca6cabe09",
        "deepnote_to_be_reexecuted": false,
        "source_hash": "7b5e8705",
        "execution_millis": 36,
        "execution_start": 1615273301508,
        "deepnote_cell_type": "code"
      },
      "source": "# The best score found during the cross validation\nsearch.best_score_",
      "execution_count": null,
      "outputs": [
        {
          "output_type": "execute_result",
          "execution_count": 41,
          "data": {
            "text/plain": "0.8259243488912398"
          },
          "metadata": {}
        }
      ]
    },
    {
      "cell_type": "markdown",
      "source": " ## 1.5 Hyperparameter Tuning for  XgBoost\n",
      "metadata": {
        "cell_id": "00027-3f42e51c-db06-418d-bdbd-793a3b6788f9",
        "deepnote_cell_type": "markdown"
      }
    },
    {
      "cell_type": "code",
      "metadata": {
        "cell_id": "00028-72cb4bb4-05b2-43d1-86e3-645274d72b6f",
        "deepnote_to_be_reexecuted": false,
        "source_hash": "9dfc8740",
        "execution_millis": 12,
        "execution_start": 1615524208431,
        "deepnote_cell_type": "code"
      },
      "source": "# according to XgBoost documentation, this should give you an idea about scale_pos_weight parameter used to fit imbalanced datasets\nfrom collections import Counter\nCounter(y_train)[0]/(Counter(y_train)[1])",
      "execution_count": 10,
      "outputs": [
        {
          "output_type": "execute_result",
          "execution_count": 10,
          "data": {
            "text/plain": "1.699975877457484"
          },
          "metadata": {}
        }
      ]
    },
    {
      "cell_type": "code",
      "metadata": {
        "cell_id": "00029-b82c3eed-c825-439d-96c9-01c220ea5d32",
        "deepnote_to_be_reexecuted": false,
        "source_hash": "3a28622c",
        "execution_millis": 1,
        "execution_start": 1615524653776,
        "deepnote_cell_type": "code"
      },
      "source": "# XGBoost is a powerful algorithm, and we can hypertune it in a similar manner we tuned trees.\n# 1. Max Depth: higher the max depth, higher is the chance to overfit. we will keep the values between 5 and 15.\n# 2. ETA: the learning rate during gradient descent calculations. we dont want the value to be too high, otherwise the solution might not converge\n# 3. Scale Pos Weight: this is a parameter which we can use when we are dealing with imbalanced datasets\n# 4. Objective: We are dealing with binary dependent variable (1 and 0 ), hence we will fix out object as \"binary:logistic\"\nsearch_space_xgboost = [\n                {'MC': [xgb.XGBClassifier(objective=\"binary:logistic\",use_label_encoder=False)],  # Actual Estimator\n                     'MC__max_depth':[10,15],\n                     'MC__eta':[0.2,0.3],\n                     'MC__scale_pos_weight':[1.65,1.69]\n                     }\n                     \n                     ]",
      "execution_count": 11,
      "outputs": []
    },
    {
      "cell_type": "markdown",
      "source": "### 1.5.2 Cross Validation and Randomized grid search for XgBoost",
      "metadata": {
        "cell_id": "00030-1b40437f-78db-4efe-9360-921a5e7f8f4a",
        "deepnote_cell_type": "markdown"
      }
    },
    {
      "cell_type": "code",
      "metadata": {
        "cell_id": "00031-a74b62f1-a60c-42ee-81e9-e00dbfe439da",
        "deepnote_to_be_reexecuted": false,
        "source_hash": "11b68d52",
        "execution_millis": 1178476,
        "execution_start": 1615524656821,
        "deepnote_cell_type": "code"
      },
      "source": "# Grid Search randomly selects parameters from search_space, and scores the candidate models on validation datasets.\n# A word of caution: This process will take time (possibly 30 minutes) since XgBoost process employs splitting and gradient boosting. \n# We have tried to ease up on folds since Deepnote has basic config with 2GB Ram. We can step up the kfold in higher config machines\nrandom_search = RandomizedSearchCV(pipe, search_space_xgboost,scoring={\"f1_score\":f1_weighted,\"recall\":recall_weighted},cv=2,refit=\"f1_score\",n_jobs = -1)\nsearch=random_search.fit(X_train,y_train)",
      "execution_count": 12,
      "outputs": [
        {
          "name": "stderr",
          "text": "/shared-libs/python3.7/py/lib/python3.7/site-packages/sklearn/model_selection/_search.py:289: UserWarning: The total space of parameters 8 is smaller than n_iter=10. Running 8 iterations. For exhaustive searches, use GridSearchCV.\n  % (grid_size, self.n_iter, grid_size), UserWarning)\n[05:09:56] WARNING: ../src/learner.cc:1061: Starting in XGBoost 1.3.0, the default evaluation metric used with the objective 'binary:logistic' was changed from 'error' to 'logloss'. Explicitly set eval_metric if you'd like to restore the old behavior.\n",
          "output_type": "stream"
        }
      ]
    },
    {
      "cell_type": "markdown",
      "source": "### 1.5.3 Best estimated XgBoost model",
      "metadata": {
        "cell_id": "00032-7459e66a-c83a-4d74-922a-80630a7f677a",
        "deepnote_cell_type": "markdown"
      }
    },
    {
      "cell_type": "code",
      "metadata": {
        "cell_id": "00033-752d01be-755c-4b52-9e3c-de3a83531f5b",
        "deepnote_to_be_reexecuted": false,
        "source_hash": "4b894c39",
        "execution_millis": 13,
        "execution_start": 1615529307113,
        "deepnote_cell_type": "code"
      },
      "source": "search.best_estimator_",
      "execution_count": 13,
      "outputs": [
        {
          "output_type": "execute_result",
          "execution_count": 13,
          "data": {
            "text/plain": "Pipeline(steps=[('imputation', SimpleImputer(strategy='most_frequent')),\n                ('preprocessing',\n                 ColumnTransformer(transformers=[('categorical',\n                                                  OneHotEncoder(handle_unknown='ignore'),\n                                                  hotel                              True\nis_canceled                       False\nlead_time                         False\narrival_date_year                 False\narrival_date_month                 True\narrival_date_week_number          False\narrival_date_day_of_month         False\nstays_in_weekend_nights           False\nstays_...\n                               importance_type='gain',\n                               interaction_constraints='',\n                               learning_rate=0.200000003, max_delta_step=0,\n                               max_depth=15, min_child_weight=1, missing=nan,\n                               monotone_constraints='()', n_estimators=100,\n                               n_jobs=4, num_parallel_tree=1, random_state=0,\n                               reg_alpha=0, reg_lambda=1, scale_pos_weight=1.69,\n                               subsample=1, tree_method='exact',\n                               use_label_encoder=False, validate_parameters=1,\n                               verbosity=None))])"
          },
          "metadata": {}
        }
      ]
    },
    {
      "cell_type": "code",
      "metadata": {
        "cell_id": "00034-afd47bb2-8671-4782-a289-846be16cdbaf",
        "deepnote_to_be_reexecuted": false,
        "source_hash": "d800743c",
        "execution_millis": 7,
        "execution_start": 1615529308868,
        "deepnote_cell_type": "code"
      },
      "source": "search.best_score_",
      "execution_count": 14,
      "outputs": [
        {
          "output_type": "execute_result",
          "execution_count": 14,
          "data": {
            "text/plain": "0.8766602066273628"
          },
          "metadata": {}
        }
      ]
    },
    {
      "cell_type": "markdown",
      "source": "### _XgBoost is the winning model!_ We will be moving with this model further on in the analysis ",
      "metadata": {
        "tags": [],
        "cell_id": "00037-ef0f33dc-d32e-48e8-ba1f-fd31fbc2ee75",
        "deepnote_cell_type": "markdown"
      }
    },
    {
      "cell_type": "markdown",
      "source": "",
      "metadata": {
        "tags": [],
        "cell_id": "00037-c55cfd08-ca75-4b9e-8b48-002663b0db92",
        "deepnote_cell_type": "markdown"
      }
    },
    {
      "cell_type": "markdown",
      "source": "## 1.6 Fitting selected model on final train dataset",
      "metadata": {
        "cell_id": "00038-41b8b529-92f3-4634-b7f6-b424367bae2a",
        "deepnote_cell_type": "markdown"
      }
    },
    {
      "cell_type": "code",
      "metadata": {
        "cell_id": "00039-db696469-b473-416f-900c-d3887c4a0f63",
        "deepnote_to_be_reexecuted": false,
        "source_hash": "10086cb",
        "execution_millis": 0,
        "execution_start": 1615533840065,
        "deepnote_cell_type": "code"
      },
      "source": "pipe=search.best_estimator_\n",
      "execution_count": 47,
      "outputs": []
    },
    {
      "cell_type": "code",
      "metadata": {
        "cell_id": "00040-59763dbc-5811-4857-94ca-71629031438b",
        "deepnote_to_be_reexecuted": false,
        "source_hash": "44a39bb",
        "execution_millis": 40173,
        "execution_start": 1615533575769,
        "deepnote_cell_type": "code"
      },
      "source": "pipe.fit(X_train,y_train)",
      "execution_count": 43,
      "outputs": [
        {
          "name": "stdout",
          "text": "[07:19:37] WARNING: ../src/learner.cc:1061: Starting in XGBoost 1.3.0, the default evaluation metric used with the objective 'binary:logistic' was changed from 'error' to 'logloss'. Explicitly set eval_metric if you'd like to restore the old behavior.\n",
          "output_type": "stream"
        },
        {
          "output_type": "execute_result",
          "execution_count": 43,
          "data": {
            "text/plain": "Pipeline(steps=[('imputation', SimpleImputer(strategy='most_frequent')),\n                ('preprocessing',\n                 ColumnTransformer(transformers=[('categorical',\n                                                  OneHotEncoder(handle_unknown='ignore'),\n                                                  hotel                              True\nis_canceled                       False\nlead_time                         False\narrival_date_year                 False\narrival_date_month                 True\narrival_date_week_number          False\narrival_date_day_of_month         False\nstays_in_weekend_nights           False\nstays_...\n                               importance_type='gain',\n                               interaction_constraints='',\n                               learning_rate=0.200000003, max_delta_step=0,\n                               max_depth=15, min_child_weight=1, missing=nan,\n                               monotone_constraints='()', n_estimators=100,\n                               n_jobs=4, num_parallel_tree=1, random_state=0,\n                               reg_alpha=0, reg_lambda=1, scale_pos_weight=1.69,\n                               subsample=1, tree_method='exact',\n                               use_label_encoder=False, validate_parameters=1,\n                               verbosity=None))])"
          },
          "metadata": {}
        }
      ]
    },
    {
      "cell_type": "markdown",
      "source": "",
      "metadata": {
        "tags": [],
        "cell_id": "00044-524b5583-68e8-4158-8d55-cb42ca3883d9",
        "deepnote_cell_type": "markdown"
      }
    },
    {
      "cell_type": "markdown",
      "source": "## 1.7 Using permutation importance for model interpretation",
      "metadata": {
        "tags": [],
        "cell_id": "00042-440d9f92-88c7-4471-8d54-d4416310a2b7",
        "deepnote_cell_type": "markdown"
      }
    },
    {
      "cell_type": "code",
      "source": "# We call permuation_importance and input the fitted model as model parameter\n# We call it on test set, since it calculates the feature importance via its performance on our test set\nresult = permutation_importance(pipe, X_test, y_test, n_repeats=2,\n                                random_state=42, n_jobs=-1)",
      "metadata": {
        "tags": [],
        "cell_id": "00044-4c47b660-331a-4f75-8ad0-09876faf8c80",
        "deepnote_to_be_reexecuted": false,
        "source_hash": "be5b4a2b",
        "execution_millis": 48719,
        "execution_start": 1615534160182,
        "deepnote_cell_type": "code"
      },
      "outputs": [],
      "execution_count": 57
    },
    {
      "cell_type": "code",
      "source": "# We create a dataframe to plot the importance values \ndf = pd.DataFrame({'columns':X_test.columns, 'importance':result.importances_mean})\ndf=df.loc[df['importance']>0].sort_values(['importance'],ascending=False).reset_index()",
      "metadata": {
        "tags": [],
        "cell_id": "00046-6fb090ea-fb42-4fdc-b79b-53aa1ba89b23",
        "deepnote_to_be_reexecuted": false,
        "source_hash": "77fa422c",
        "execution_millis": 4,
        "execution_start": 1615535681434,
        "deepnote_cell_type": "code"
      },
      "outputs": [],
      "execution_count": 83
    },
    {
      "cell_type": "code",
      "source": "# We see country of origin, lead time, and deposit type are the most important variables. this is something we caught on during our EDA as well.\nplt.subplots(1,figsize=(13,12))\nsns.barplot(x=\"importance\",y=\"columns\",data=df)\nplt.show()",
      "metadata": {
        "tags": [],
        "cell_id": "00048-2f535600-0e7c-4438-9f7d-e1106c3c81a5",
        "deepnote_to_be_reexecuted": false,
        "source_hash": "beb5346a",
        "execution_millis": 485,
        "execution_start": 1615535770039,
        "deepnote_cell_type": "code"
      },
      "outputs": [
        {
          "data": {
            "text/plain": "<Figure size 936x864 with 1 Axes>",
            "image/png": "[encoded data removed]"
          },
          "metadata": {
            "needs_background": "light"
          },
          "output_type": "display_data"
        }
      ],
      "execution_count": 87
    },
    {
      "cell_type": "markdown",
      "source": "## 1.8 Evaluating Model performance on Test set",
      "metadata": {
        "cell_id": "00042-3af32b8a-f117-4be6-865d-fcef5d35660b",
        "deepnote_cell_type": "markdown"
      }
    },
    {
      "cell_type": "code",
      "source": "y_pred=pipe.predict(X_test)",
      "metadata": {
        "tags": [],
        "cell_id": "00048-56a93a6b-641d-4aa1-b293-58e1ccf69d08",
        "deepnote_to_be_reexecuted": false,
        "source_hash": "3b88ad86",
        "execution_start": 1615535781073,
        "execution_millis": 559,
        "deepnote_cell_type": "code"
      },
      "outputs": [],
      "execution_count": 88
    },
    {
      "cell_type": "code",
      "metadata": {
        "cell_id": "00043-36ea6350-5cb5-42bb-b73e-70b6c401cae1",
        "deepnote_to_be_reexecuted": false,
        "source_hash": "cf0f99d2",
        "execution_millis": 16,
        "execution_start": 1615535789370,
        "deepnote_cell_type": "code"
      },
      "source": "# We choose weighted fscore since we have imbalanced classification data.\nprint(\"Weighted f1 score is:\",f1_score(y_test, y_pred, average='weighted'))",
      "execution_count": 89,
      "outputs": [
        {
          "name": "stdout",
          "text": "Weighted f1 score is: 0.8866644686340783\n",
          "output_type": "stream"
        }
      ]
    },
    {
      "cell_type": "code",
      "metadata": {
        "cell_id": "00044-22ffc446-629d-4823-9053-41bc5a1651c3",
        "deepnote_to_be_reexecuted": false,
        "source_hash": "dbb9fe73",
        "execution_millis": 246,
        "execution_start": 1615303795532,
        "deepnote_cell_type": "code"
      },
      "source": "# The confusion matrix helps us visualise the precision and recall. Its important for us that we are able to identify users who are cancelling correctly.\n# We are able to predict users who cancelled (TP) 85% of the times. Thats good accuracy\nconfusio_matrix(y_test, y_pred)",
      "execution_count": null,
      "outputs": [
        {
          "data": {
            "text/plain": "<Figure size 720x720 with 1 Axes>",
            "image/png": "[encoded data removed]"
          },
          "metadata": {
            "needs_background": "light"
          },
          "output_type": "display_data"
        }
      ]
    },
    {
      "cell_type": "code",
      "metadata": {
        "cell_id": "00045-83322e91-b327-4e72-9e33-0956ac19a232",
        "deepnote_to_be_reexecuted": false,
        "source_hash": "8503ee8",
        "execution_millis": 65,
        "execution_start": 1615303795783,
        "deepnote_cell_type": "code"
      },
      "source": "# We are able to precisely predict the 0s and 1s with 91% and 85% accuracy.\n\nprint(classification_report(y_test, y_pred, target_names=['0','1']))",
      "execution_count": null,
      "outputs": [
        {
          "name": "stdout",
          "text": "              precision    recall  f1-score   support\n\n           0       0.91      0.91      0.91     18788\n           1       0.85      0.84      0.85     11060\n\n    accuracy                           0.89     29848\n   macro avg       0.88      0.88      0.88     29848\nweighted avg       0.89      0.89      0.89     29848\n\n",
          "output_type": "stream"
        }
      ]
    },
    {
      "cell_type": "markdown",
      "source": "## 1.9 Conclusion",
      "metadata": {
        "cell_id": "00046-fbee6abd-3b57-4e2d-aa18-cb9b87ff3e8b",
        "deepnote_cell_type": "markdown"
      }
    },
    {
      "cell_type": "markdown",
      "source": "### 1. Regularised models and trees do not get impacted by outliers, hence the models show good results despite some outliers in the data\n\n### 2. After gridSearch and hyperparameter tunnig we found XGBoost is the best model in indentifying whether a user cancelled his booking or not.\n\n### 3. XgBoost worked the best because it adds regularization to the loss function to reduce model complexity and increase generalisation. \n\n### 3. We adjusted the model weights due to class imbalance in target variable. Our final model has a overall balanced accuracy score 88.69%. \n\n### 4. It classifies 85% of the users who cancelled correctly and 91% who did not cancel correctly.\n\n",
      "metadata": {
        "cell_id": "00047-024ace2f-7d1b-4efc-be58-9afe345e75a1",
        "deepnote_cell_type": "markdown"
      }
    },
    {
      "cell_type": "markdown",
      "source": "## 1.10 How can this model be used?",
      "metadata": {
        "cell_id": "00048-35307b71-2b21-428d-a26b-136727017c09",
        "deepnote_cell_type": "markdown"
      }
    },
    {
      "cell_type": "markdown",
      "source": "### 1. This model will be helpful in highlighting the bookings which have high propensity of cancellation. \n\n### 2. The hotels can use this model to impose high cancellation fee on bookings which the model has detected as likely to be cancelled. This will discourage the customer from cancelling or the booking will be done by a user who is less likely to cancel",
      "metadata": {
        "cell_id": "00049-238b2486-e9de-439b-91fb-ab25bc2c666b",
        "deepnote_cell_type": "markdown"
      }
    },
    {
      "cell_type": "markdown",
      "source": "## 1.11 Next steps for the model ",
      "metadata": {
        "cell_id": "00050-29ca0fa1-1dbc-4fe0-8994-cd9deda1e6cc",
        "deepnote_cell_type": "markdown"
      }
    },
    {
      "cell_type": "markdown",
      "source": "### 1. The model currently uses a snippet of data on a fixed timeframe (from July 2015 to August 2017). With time the needs of the customers can evolve, and hence productionising this code on dynamic datasets will help \n### 2. Its normal for users to change some atttributes of their booking at the last moment, which can influence the model results. Its important that the model is scaled and productionised so that the model stays updated",
      "metadata": {
        "cell_id": "00051-052a1aeb-9ac3-44e7-835b-626ebf974b1c",
        "deepnote_cell_type": "markdown"
      }
    },
    {
      "cell_type": "code",
      "metadata": {
        "cell_id": "00052-412c3be5-ad05-4f16-b9f7-5aaaa2e9e027",
        "deepnote_to_be_reexecuted": true,
        "source_hash": "b623e53d",
        "deepnote_cell_type": "code"
      },
      "source": "",
      "execution_count": null,
      "outputs": []
    },
    {
      "cell_type": "markdown",
      "source": "<a style='text-decoration:none;line-height:16px;display:flex;color:#5B5B62;padding:10px;justify-content:end;' href='https://deepnote.com?utm_source=created-in-deepnote-cell&projectId=aa268a46-3542-4a0a-85f2-14c43bc3e6e2' target=\"_blank\">\n<img style='display:inline;max-height:16px;margin:0px;margin-right:7.5px;' src='data:image/svg+xml;base64,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' > </img>\nCreated in <span style='font-weight:600;margin-left:4px;'>Deepnote</span></a>",
      "metadata": {
        "tags": [],
        "created_in_deepnote_cell": true,
        "deepnote_cell_type": "markdown"
      }
    }
  ],
  "nbformat": 4,
  "nbformat_minor": 5,
  "metadata": {
    "kernelspec": {
      "display_name": "Python 3",
      "language": "python",
      "name": "python3"
    },
    "language_info": {
      "codemirror_mode": {
        "name": "ipython",
        "version": 3
      },
      "file_extension": ".py",
      "mimetype": "text/x-python",
      "name": "python",
      "nbconvert_exporter": "python",
      "pygments_lexer": "ipython3",
      "version": "3.8.8"
    },
    "latex_envs": {
      "LaTeX_envs_menu_present": true,
      "autoclose": false,
      "autocomplete": true,
      "bibliofile": "biblio.bib",
      "cite_by": "apalike",
      "current_citInitial": 1,
      "eqLabelWithNumbers": true,
      "eqNumInitial": 1,
      "hotkeys": {
        "equation": "Ctrl-E",
        "itemize": "Ctrl-I"
      },
      "labels_anchors": false,
      "latex_user_defs": false,
      "report_style_numbering": false,
      "user_envs_cfg": false
    },
    "deepnote_notebook_id": "98f06e67-5d7d-46eb-82aa-23477bcbc9c9",
    "deepnote": {},
    "deepnote_execution_queue": []
  }
}