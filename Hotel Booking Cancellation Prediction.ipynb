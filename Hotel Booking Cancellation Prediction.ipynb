{
  "cells": [
    {
      "cell_type": "markdown",
      "source": "# Hotel Booking Cancellation Prediction",
      "metadata": {
        "cell_id": "00000-e2449e85-6c88-4f2d-ab08-344176ea0efe",
        "deepnote_cell_type": "markdown"
      }
    },
    {
      "cell_type": "markdown",
      "source": "## 1.1 Research Question:",
      "metadata": {
        "cell_id": "00001-36fbf691-10aa-450a-a3ae-04cb67e4f6c3",
        "deepnote_cell_type": "markdown"
      }
    },
    {
      "cell_type": "markdown",
      "source": "#### 1. The aim of this project is to predict a hotel booking׳s likelihood to be canceled. The data includes hotel booking information of two hotels: a city hotel (H1) and resort hotel (H2) and total 31 features in the dataset. \n\n#### 2. The model aims to understand bookings made from  July of 2015 to the 31st of August 2017, and predict successfully based on booking characteristics, whether a customer has a higher chance of cancellation.  \n\n#### 3. This model will be really useful in identifying potential customers who can cancel and help hotels actively incentivise/penalise the customers depending on the marketing strategy",
      "metadata": {
        "cell_id": "00002-6a1706a5-481e-4f40-a1ac-95723ce6d253",
        "deepnote_cell_type": "markdown"
      }
    },
    {
      "cell_type": "code",
      "metadata": {
        "cell_id": "00003-74d1603c-c1f5-4327-b562-0e5541ee9c7b",
        "deepnote_to_be_reexecuted": false,
        "source_hash": "a49f915c",
        "execution_millis": 4248,
        "execution_start": 1615269478178,
        "deepnote_cell_type": "code"
      },
      "source": "# Installing the packages\n!pip install -r requirements.txt",
      "execution_count": 69,
      "outputs": [
        {
          "name": "stdout",
          "text": "Requirement already satisfied: category_encoders==2.2.2 in /root/venv/lib/python3.7/site-packages (from -r requirements.txt (line 1)) (2.2.2)\nRequirement already satisfied: xgboost==1.3.3 in /root/venv/lib/python3.7/site-packages (from -r requirements.txt (line 2)) (1.3.3)\nRequirement already satisfied: imblearn==0.0 in /root/venv/lib/python3.7/site-packages (from -r requirements.txt (line 3)) (0.0)\nRequirement already satisfied: eli5==0.11.0 in /root/venv/lib/python3.7/site-packages (from -r requirements.txt (line 4)) (0.11.0)\nRequirement already satisfied: statsmodels>=0.9.0 in /root/venv/lib/python3.7/site-packages (from category_encoders==2.2.2->-r requirements.txt (line 1)) (0.12.2)\nRequirement already satisfied: numpy>=1.14.0 in /shared-libs/python3.7/py/lib/python3.7/site-packages (from category_encoders==2.2.2->-r requirements.txt (line 1)) (1.19.5)\nRequirement already satisfied: pandas>=0.21.1 in /shared-libs/python3.7/py/lib/python3.7/site-packages (from category_encoders==2.2.2->-r requirements.txt (line 1)) (1.2.3)\nRequirement already satisfied: patsy>=0.5.1 in /root/venv/lib/python3.7/site-packages (from category_encoders==2.2.2->-r requirements.txt (line 1)) (0.5.1)\nRequirement already satisfied: scikit-learn>=0.20.0 in /shared-libs/python3.7/py/lib/python3.7/site-packages (from category_encoders==2.2.2->-r requirements.txt (line 1)) (0.24.1)\nRequirement already satisfied: scipy>=1.0.0 in /shared-libs/python3.7/py/lib/python3.7/site-packages (from category_encoders==2.2.2->-r requirements.txt (line 1)) (1.6.1)\nRequirement already satisfied: imbalanced-learn in /root/venv/lib/python3.7/site-packages (from imblearn==0.0->-r requirements.txt (line 3)) (0.8.0)\nRequirement already satisfied: tabulate>=0.7.7 in /shared-libs/python3.7/py/lib/python3.7/site-packages (from eli5==0.11.0->-r requirements.txt (line 4)) (0.8.9)\nRequirement already satisfied: attrs>16.0.0 in /shared-libs/python3.7/py-core/lib/python3.7/site-packages (from eli5==0.11.0->-r requirements.txt (line 4)) (20.3.0)\nRequirement already satisfied: six in /shared-libs/python3.7/py-core/lib/python3.7/site-packages (from eli5==0.11.0->-r requirements.txt (line 4)) (1.15.0)\nRequirement already satisfied: jinja2 in /shared-libs/python3.7/py-core/lib/python3.7/site-packages (from eli5==0.11.0->-r requirements.txt (line 4)) (2.11.3)\nRequirement already satisfied: graphviz in /root/venv/lib/python3.7/site-packages (from eli5==0.11.0->-r requirements.txt (line 4)) (0.16)\nRequirement already satisfied: python-dateutil>=2.7.3 in /shared-libs/python3.7/py-core/lib/python3.7/site-packages (from pandas>=0.21.1->category_encoders==2.2.2->-r requirements.txt (line 1)) (2.8.1)\nRequirement already satisfied: pytz>=2017.3 in /shared-libs/python3.7/py/lib/python3.7/site-packages (from pandas>=0.21.1->category_encoders==2.2.2->-r requirements.txt (line 1)) (2021.1)\nRequirement already satisfied: threadpoolctl>=2.0.0 in /shared-libs/python3.7/py/lib/python3.7/site-packages (from scikit-learn>=0.20.0->category_encoders==2.2.2->-r requirements.txt (line 1)) (2.1.0)\nRequirement already satisfied: joblib>=0.11 in /shared-libs/python3.7/py/lib/python3.7/site-packages (from scikit-learn>=0.20.0->category_encoders==2.2.2->-r requirements.txt (line 1)) (1.0.1)\nRequirement already satisfied: MarkupSafe>=0.23 in /shared-libs/python3.7/py-core/lib/python3.7/site-packages (from jinja2->eli5==0.11.0->-r requirements.txt (line 4)) (1.1.1)\n\u001b[33mWARNING: You are using pip version 20.1.1; however, version 21.0.1 is available.\nYou should consider upgrading via the '/root/venv/bin/python -m pip install --upgrade pip' command.\u001b[0m\n",
          "output_type": "stream"
        }
      ]
    },
    {
      "cell_type": "code",
      "metadata": {
        "cell_id": "00004-169423a1-26a9-462d-a74a-45c3623db19e",
        "deepnote_to_be_reexecuted": false,
        "source_hash": "7ea2a101",
        "execution_millis": 7,
        "execution_start": 1615258996695,
        "deepnote_cell_type": "code"
      },
      "source": "from   category_encoders          import *\nimport numpy as np\nimport pandas as pd\nfrom   sklearn.compose            import *\nfrom   sklearn.ensemble           import *\nfrom   sklearn.experimental       import *\nfrom   sklearn.impute             import *\nfrom   sklearn.linear_model       import *\nfrom   sklearn.metrics            import * \nfrom   sklearn.pipeline           import *\nfrom   sklearn.preprocessing      import *\nfrom   sklearn.tree               import *\nfrom   sklearn.model_selection    import *\nimport xgboost as xgb\nimport matplotlib.pyplot as plt\nfrom sklearn.base            import BaseEstimator\nfrom imblearn      import pipeline\nimport imblearn\nimport eli5\nfrom sklearn.model_selection import RandomizedSearchCV\n",
      "execution_count": 15,
      "outputs": []
    },
    {
      "cell_type": "code",
      "metadata": {
        "cell_id": "00005-7e644799-08f4-4fe7-935a-fbf3420253a9",
        "deepnote_to_be_reexecuted": false,
        "source_hash": "10465eea",
        "execution_millis": 1,
        "execution_start": 1615258864698,
        "deepnote_cell_type": "code"
      },
      "source": "def confusio_matrix(y_test, y_predicted):\n    \n    cm = confusion_matrix(y_test, y_predicted)\n    plt.figure(figsize=(10,10))\n    plt.clf()\n    plt.imshow(cm, interpolation='nearest', cmap=plt.cm.Wistia)\n    classNames = ['Negative','Positive']\n    plt.title('Confusion Matrix')\n    plt.ylabel('True label')\n    plt.xlabel('Predicted label')\n    tick_marks = np.arange(len(classNames))\n    plt.xticks(tick_marks, classNames, rotation=45)\n    plt.yticks(tick_marks, classNames)\n    s = [['TN','FP'], ['FN', 'TP']]\n    for i in range(2):\n        for j in range(2):\n            plt.text(j,i, str(s[i][j])+\" = \"+str(cm[i][j]))\n    plt.show()",
      "execution_count": 4,
      "outputs": []
    },
    {
      "cell_type": "code",
      "metadata": {
        "cell_id": "00006-2ca22425-2bda-420a-928c-c0dcc328ffff",
        "deepnote_to_be_reexecuted": false,
        "source_hash": "fc5d9caa",
        "execution_millis": 408,
        "execution_start": 1615258864699,
        "deepnote_cell_type": "code"
      },
      "source": "hotel = pd.read_csv(\"hotel_bookings.csv\")",
      "execution_count": 5,
      "outputs": []
    },
    {
      "cell_type": "code",
      "metadata": {
        "cell_id": "00007-d08ff7c4-ab9c-4c99-9fb7-cda862c68a30",
        "deepnote_to_be_reexecuted": false,
        "source_hash": "233f021c",
        "execution_millis": 14,
        "execution_start": 1615258865671,
        "deepnote_cell_type": "code"
      },
      "source": "# Dropping irrelevant columns\ny=hotel.iloc[:,1]\nX=hotel",
      "execution_count": 6,
      "outputs": []
    },
    {
      "cell_type": "code",
      "metadata": {
        "tags": [],
        "cell_id": "00008-1ab908e7-f5a3-412c-81f6-84994fec628a",
        "deepnote_to_be_reexecuted": false,
        "source_hash": "2e71b11d",
        "execution_millis": 101,
        "execution_start": 1615258867984,
        "deepnote_cell_type": "code"
      },
      "source": "# Creating a Train and test dataset. We set a random state so we can have reproducible Train and Test dataset for our project.\nX_train, X_test, y_train, y_test = train_test_split(X, y,random_state=10)",
      "execution_count": 7,
      "outputs": []
    },
    {
      "cell_type": "markdown",
      "source": "## 1.2  Feature engineering and pipeline creation",
      "metadata": {
        "cell_id": "00008-018ddf18-31db-4761-92a2-64328743b4bc",
        "deepnote_cell_type": "markdown"
      }
    },
    {
      "cell_type": "code",
      "metadata": {
        "cell_id": "00009-10098433-b42d-4bb8-8a68-c9fd2dcb9eaf",
        "deepnote_to_be_reexecuted": false,
        "source_hash": "a5d947f8",
        "execution_millis": 6,
        "execution_start": 1615258984823,
        "deepnote_cell_type": "code"
      },
      "source": "# We create a weighted f1 score which is our final metric for choosing models. This will be an input to our Grid Search CV\nfrom sklearn.metrics import f1_score, make_scorer\nf1_new= make_scorer(f1_score , average='weighted')",
      "execution_count": 14,
      "outputs": []
    },
    {
      "cell_type": "code",
      "metadata": {
        "cell_id": "00011-43fb6ae6-61cf-4386-b22f-610cb1a283bb",
        "deepnote_to_be_reexecuted": false,
        "source_hash": "cde7f981",
        "execution_millis": 6,
        "execution_start": 1615258876679,
        "deepnote_cell_type": "code"
      },
      "source": "# Creating a class dummy estimator for pipeline\nclass DummyEstimator(BaseEstimator):\n    \"Pass through class, methods are present but do nothing.\"\n    def fit(self): pass\n    def score(self): pass",
      "execution_count": 9,
      "outputs": []
    },
    {
      "cell_type": "code",
      "metadata": {
        "cell_id": "00012-e4da6084-c187-42cf-9da3-c24723d6df37",
        "deepnote_to_be_reexecuted": false,
        "source_hash": "7d14e208",
        "execution_millis": 1,
        "execution_start": 1615266184034,
        "deepnote_cell_type": "code"
      },
      "source": "# Selecting categorical columns while removing irrelevant columns \ncategorical_cols = (X.dtypes == object)\ncategorical_cols[['is_canceled','company','reservation_status','reservation_status_date','agent']]=False\n\n\n# Selecting continuous columns while removing irrelevant columns \ncontinuous_cols = (X.dtypes != object)\ncontinuous_cols[['is_canceled','company','reservation_status','reservation_status_date','agent']]=False\n\n#Applying transformation on columns\n#OneHotEncoding Categorical variables\n# Scaling the Continuous data\npreprocessing = ColumnTransformer([\n                                ('categorical', OneHotEncoder(handle_unknown='ignore'),categorical_cols ),\n                                ('continuous', QuantileTransformer(), continuous_cols)\n                                ])\n\n# Using simpleimputer to handle missing values. We are replacing the values with most frequent values \npipe = Pipeline([\n                ('imputation',SimpleImputer(missing_values=np.nan,strategy=\"most_frequent\")),\n                ('preprocessing',preprocessing),\n                ('MC',DummyEstimator())]) \n",
      "execution_count": 38,
      "outputs": []
    },
    {
      "cell_type": "markdown",
      "source": "## 1.3 Hyperparameter Tuning for Random Forest ",
      "metadata": {
        "cell_id": "00013-d03c0538-0556-4b34-9f77-704f1a3cac9d",
        "deepnote_cell_type": "markdown"
      }
    },
    {
      "cell_type": "code",
      "metadata": {
        "cell_id": "00014-cb0d2076-fdcb-49d4-a26c-e70d7e52b176",
        "deepnote_to_be_reexecuted": false,
        "source_hash": "ed1e272b",
        "execution_millis": 1,
        "execution_start": 1615258975234,
        "deepnote_cell_type": "code"
      },
      "source": "# The following hyperparameters are useful when tuning a RF model:\n# 1. Criterion: Gini criterion is usually much faster computationally than entropy. On the other hand in some instances entropy can have better results. we choose both\n# 2. Max_depth: Higher the max depth more complex is the model. hence its best to keep this value lower\n# 3. Min Samples Leaf: Similar to max depth value, it controls complexity. Too low a value leads to overfitting, too high a value leads to underfitting\n# 4. Class Weight: Since we are dealing with imbalanced dataset, it would help to choose 'balanced' version of class weights\n# 5. N_estimators: the number of trees we want to look at before taking maximum voting of predictions. too high a value can lead to overfitting\n# 6. Bootstrap: Bootstrapping can be good to help increase model generality as it looks at different samples. at the same time sometimes it can lead to underfitting. So we include both options\n# 7. Max Features: this refers to the number of features should be randomly considered for each split. Log selects lesser number of random features which can speed up the model or prevent model from overfitting\n\n\nsearch_space = [\n                {'MC': [RandomForestClassifier()],  # Actual Estimator\n                     'MC__criterion': ['gini', 'entropy'],\n                     'MC__max_depth':[5,10,15],\n                     'MC__min_samples_leaf':[5,10],\n                     'MC__class_weight':['balanced'],\n                     'MC__n_estimators':[10,50],\n                     'MC__bootstrap':[True,False],\n                     'MC__max_features':['sqrt','log2']\n                     \n                     }\n                     \n                     ]",
      "execution_count": 12,
      "outputs": []
    },
    {
      "cell_type": "markdown",
      "source": "### 1.3.2 Cross Validation and Randomized grid search on Random Forest",
      "metadata": {
        "cell_id": "00015-e8c87361-ec7a-4042-a024-765c5950324c",
        "deepnote_cell_type": "markdown"
      }
    },
    {
      "cell_type": "code",
      "metadata": {
        "cell_id": "00016-45445ee2-3bc2-43ff-8a60-b20e404f6185",
        "deepnote_to_be_reexecuted": false,
        "source_hash": "c0550634",
        "execution_millis": 220640,
        "execution_start": 1615259008718,
        "deepnote_cell_type": "code"
      },
      "source": "# Grid Search randomly selects parameters from search_space, and scores the candidate models on validation datasets \nrandom_search = RandomizedSearchCV(pipe, search_space,scoring=f1_new,cv=5,n_jobs = -1)\nsearch=random_search.fit(X_train,y_train)",
      "execution_count": 16,
      "outputs": []
    },
    {
      "cell_type": "markdown",
      "source": "### 1.3.3 The best estimator found through Randomised Search CV for Random Forest",
      "metadata": {
        "cell_id": "00017-9f4bcac5-29da-48b0-971f-3e2ea4d3484f",
        "deepnote_cell_type": "markdown"
      }
    },
    {
      "cell_type": "code",
      "metadata": {
        "cell_id": "00018-04b37f78-00ac-4241-a949-064d9b3cc3f8",
        "deepnote_to_be_reexecuted": false,
        "source_hash": "4b894c39",
        "execution_millis": 63,
        "execution_start": 1615259243045,
        "deepnote_cell_type": "code"
      },
      "source": "# The best model fitted during cross validation\nsearch.best_estimator_",
      "execution_count": 17,
      "outputs": [
        {
          "output_type": "execute_result",
          "execution_count": 17,
          "data": {
            "text/plain": "Pipeline(steps=[('imputation', SimpleImputer(strategy='most_frequent')),\n                ('preprocessing',\n                 ColumnTransformer(transformers=[('categorical',\n                                                  OneHotEncoder(handle_unknown='ignore'),\n                                                  hotel                              True\nis_canceled                       False\nlead_time                         False\narrival_date_year                 False\narrival_date_month                 True\narrival_date_week_number          False\narrival_date_day_of_month         False\nstays_in_weekend_nights           False\nstays_...\nbooking_changes                    True\ndeposit_type                      False\nagent                             False\ncompany                           False\ndays_in_waiting_list               True\ncustomer_type                     False\nadr                                True\nrequired_car_parking_spaces        True\ntotal_of_special_requests          True\nreservation_status                False\nreservation_status_date           False\ndtype: bool)])),\n                ('MC',\n                 RandomForestClassifier(class_weight='balanced', max_depth=15,\n                                        max_features='sqrt', min_samples_leaf=5,\n                                        n_estimators=50))])"
          },
          "metadata": {}
        }
      ]
    },
    {
      "cell_type": "code",
      "metadata": {
        "cell_id": "00019-ee6327cb-6066-412f-9b2c-e3f103bc9753",
        "deepnote_to_be_reexecuted": false,
        "source_hash": "d800743c",
        "execution_millis": 15,
        "execution_start": 1615259246663,
        "deepnote_cell_type": "code"
      },
      "source": "# The best score found during the cross validation\nsearch.best_score_",
      "execution_count": 18,
      "outputs": [
        {
          "output_type": "execute_result",
          "execution_count": 18,
          "data": {
            "text/plain": "0.8539685502177635"
          },
          "metadata": {}
        }
      ]
    },
    {
      "cell_type": "markdown",
      "source": "## 1.4 Hyperparameter Tuning for Regularised Logistic Regression",
      "metadata": {
        "cell_id": "00020-64d57da7-02d1-4cc5-af9c-a6e1e08e3d15",
        "deepnote_cell_type": "markdown"
      }
    },
    {
      "cell_type": "code",
      "metadata": {
        "cell_id": "00021-ed0f2d7d-7a0c-482a-9d03-4cf04144c296",
        "deepnote_to_be_reexecuted": false,
        "source_hash": "e751c3b8",
        "execution_start": 1615259254803,
        "execution_millis": 7,
        "deepnote_cell_type": "code"
      },
      "source": "##  The following hyperparameters are useful when tuning a Logistic model:\n# 1. penalty: Since we have large number of features, regularisation will always help. Either L1 or L2 can give better results\n# 2. C: it is the penalty parameter, higher the value, higher the penalty on large coefficients\n# 3. class_weight: since we are dealing with an imbalanced dataset, its better to test for 'balanced' parameter\n# 4. solver: liblinear solver is generally the fastest. newton-cg uses linear conjugate gradient algo helping \n# to converge to an optimal solution faster, hence we will consider both\n\nsearch_space_log=[{'MC': [LogisticRegression()], # Actual Estimator\n                     'MC__penalty': [ 'l2' ,'l1'],\n                     'MC__C': np.logspace(0, 5, 20),\n                     'MC__class_weight':['balanced',None],\n                     'MC__solver':['liblinear','newton-cg'],\n                     'MC__fit_intercept':[True,False]\n              }]",
      "execution_count": 19,
      "outputs": []
    },
    {
      "cell_type": "markdown",
      "source": "### 1.4.2 Cross Validation and Randomized grid search on Logistic Regression",
      "metadata": {
        "cell_id": "00022-36a71e47-4401-450c-babb-5d9d87f65958",
        "deepnote_cell_type": "markdown"
      }
    },
    {
      "cell_type": "code",
      "metadata": {
        "cell_id": "00023-b90d3559-9f38-4d66-8819-66b5fa0c1b3d",
        "deepnote_to_be_reexecuted": false,
        "source_hash": "e2b6a8e3",
        "execution_start": 1615259258516,
        "execution_millis": 398952,
        "deepnote_cell_type": "code"
      },
      "source": "# Grid Search randomly selects parameters from search_space_log, and scores the candidate models on validation datasets \n\nrandom_search = RandomizedSearchCV(pipe, search_space_log,scoring=f1_new,cv=5,n_jobs = -1)\nsearch=random_search.fit(X_train,y_train)",
      "execution_count": 20,
      "outputs": []
    },
    {
      "cell_type": "markdown",
      "source": "### The best estimator found through Randomised Search CV for Logistic Reg",
      "metadata": {
        "cell_id": "00024-4c510898-29df-4077-a546-88fb33ab8481",
        "deepnote_cell_type": "markdown"
      }
    },
    {
      "cell_type": "code",
      "metadata": {
        "cell_id": "00025-907e11f1-a755-476e-b642-327a80879554",
        "deepnote_to_be_reexecuted": false,
        "source_hash": "4b894c39",
        "execution_start": 1615259657468,
        "execution_millis": 42,
        "deepnote_cell_type": "code"
      },
      "source": "# The best model fitted during cross validation\nsearch.best_estimator_",
      "execution_count": 21,
      "outputs": [
        {
          "output_type": "execute_result",
          "execution_count": 21,
          "data": {
            "text/plain": "Pipeline(steps=[('imputation', SimpleImputer(strategy='most_frequent')),\n                ('preprocessing',\n                 ColumnTransformer(transformers=[('categorical',\n                                                  OneHotEncoder(handle_unknown='ignore'),\n                                                  hotel                              True\nis_canceled                       False\nlead_time                         False\narrival_date_year                 False\narrival_date_month                 True\narrival_date_week_number          False\narrival_date_day_of_month         False\nstays_in_weekend_nights           False\nstays_...\nreserved_room_type                False\nassigned_room_type                False\nbooking_changes                    True\ndeposit_type                      False\nagent                             False\ncompany                           False\ndays_in_waiting_list               True\ncustomer_type                     False\nadr                                True\nrequired_car_parking_spaces        True\ntotal_of_special_requests          True\nreservation_status                False\nreservation_status_date           False\ndtype: bool)])),\n                ('MC',\n                 LogisticRegression(C=6.158482110660264, fit_intercept=False,\n                                    solver='liblinear'))])"
          },
          "metadata": {}
        }
      ]
    },
    {
      "cell_type": "code",
      "metadata": {
        "cell_id": "00026-7adc65d5-f3cd-411b-8f14-22eca6cabe09",
        "deepnote_to_be_reexecuted": true,
        "source_hash": "d800743c",
        "deepnote_cell_type": "code"
      },
      "source": "# The best score found during the cross validation\nsearch.best_score_",
      "execution_count": 22,
      "outputs": []
    },
    {
      "cell_type": "markdown",
      "source": " ## 1.5 Hyperparameter Tuning for  XgBoost\n",
      "metadata": {
        "cell_id": "00027-3f42e51c-db06-418d-bdbd-793a3b6788f9",
        "deepnote_cell_type": "markdown"
      }
    },
    {
      "cell_type": "code",
      "metadata": {
        "cell_id": "00028-72cb4bb4-05b2-43d1-86e3-645274d72b6f",
        "deepnote_to_be_reexecuted": false,
        "source_hash": "822e367",
        "execution_start": 1615259657531,
        "execution_millis": 58,
        "deepnote_cell_type": "code"
      },
      "source": "# according to XgBoost documentation, this should give you an idea about scale_pos_weight parameter used to fit imbalanced datasets\nfrom collections import Counter\nCounter(y_train)[0]/(Counter(y_train)[1])",
      "execution_count": 23,
      "outputs": [
        {
          "data": {
            "text/plain": "1.6946943934515033"
          },
          "execution_count": 73,
          "metadata": {},
          "output_type": "execute_result"
        }
      ]
    },
    {
      "cell_type": "code",
      "metadata": {
        "tags": [],
        "cell_id": "00029-a3e5e834-a1aa-4ecd-9ab9-0a324c9833bf",
        "deepnote_to_be_reexecuted": false,
        "source_hash": "529a5ca6",
        "execution_millis": 3,
        "execution_start": 1615265906782,
        "deepnote_cell_type": "code"
      },
      "source": "# XGBoost is a powerful algorithm, and we can hypertune it in a similar manner we tuned trees.\n# 1. Max Depth: higher the max depth, higher is the chance to overfit. we will keep the values between 5 and 15.\n# 2. ETA: the learning rate during gradient descent calculations. we dont want the value to be too high, otherwise the solution might not converge\n# 3. Scale Pos Weightt: this is a parameter which we can use when we are dealing with imbalanced datasets\n\n# Cross validation on XgBoost can take a long time, especially on lower RAM consoles. hence we will not be running CV on XgBoost.\n\npipe = Pipeline([\n                ('imputation',SimpleImputer(missing_values=np.nan,strategy=\"most_frequent\")),\n                ('preprocessing',preprocessing),\n                ('XGBoost',xgb.XGBClassifier(objective=\"binary:logistic\",use_label_encoder=False,max_depth=15,scale_pos_weight=1.694,eta=0.3))]) ",
      "execution_count": 36,
      "outputs": []
    },
    {
      "cell_type": "code",
      "metadata": {
        "cell_id": "00029-b82c3eed-c825-439d-96c9-01c220ea5d32",
        "deepnote_to_be_reexecuted": false,
        "source_hash": "3ff183f7",
        "execution_millis": 1,
        "execution_start": 1615266205769,
        "deepnote_cell_type": "code"
      },
      "source": "# XGBoost is a powerful algorithm, and we can hypertune it in a similar manner we tuned trees.\n# 1. Max Depth: higher the max depth, higher is the chance to overfit. we will keep the values between 5 and 15.\n# 2. ETA: the learning rate during gradient descent calculations. we dont want the value to be too high, otherwise the solution might not converge\n# 3. Scale Pos Weightt: this is a parameter which we can use when we are dealing with imbalanced datasets\nsearch_space_xgboost = [\n                {'MC': [xgb.XGBClassifier(objective=\"binary:logistic\",use_label_encoder=False)],  # Actual Estimator\n                     'MC__max_depth':[15],\n                     'MC__eta':[0.3],\n                     'MC__scale_pos_weight':[1.69]\n                     }\n                     \n                     ]",
      "execution_count": 39,
      "outputs": []
    },
    {
      "cell_type": "markdown",
      "source": "### 1.5.2 Cross Validation and Randomized grid search for XgBoost",
      "metadata": {
        "cell_id": "00030-1b40437f-78db-4efe-9360-921a5e7f8f4a",
        "deepnote_cell_type": "markdown"
      }
    },
    {
      "cell_type": "code",
      "metadata": {
        "cell_id": "00031-a74b62f1-a60c-42ee-81e9-e00dbfe439da",
        "deepnote_to_be_reexecuted": false,
        "source_hash": "400eea47",
        "execution_millis": 618748,
        "execution_start": 1615266250047,
        "deepnote_cell_type": "code"
      },
      "source": "# Grid Search randomly selects parameters from search_space, and scores the candidate models on validation datasets \nrandom_search = RandomizedSearchCV(pipe, search_space_xgboost,cv=2,n_jobs = -1)\nsearch=random_search.fit(X_train,y_train)",
      "execution_count": 41,
      "outputs": [
        {
          "name": "stderr",
          "text": "/shared-libs/python3.7/py/lib/python3.7/site-packages/sklearn/model_selection/_search.py:289: UserWarning: The total space of parameters 1 is smaller than n_iter=10. Running 1 iterations. For exhaustive searches, use GridSearchCV.\n  % (grid_size, self.n_iter, grid_size), UserWarning)\n[05:12:51] WARNING: ../src/learner.cc:1061: Starting in XGBoost 1.3.0, the default evaluation metric used with the objective 'binary:logistic' was changed from 'error' to 'logloss'. Explicitly set eval_metric if you'd like to restore the old behavior.\n",
          "output_type": "stream"
        }
      ]
    },
    {
      "cell_type": "markdown",
      "source": "### 1.5.3 Best estimated XgBoost model",
      "metadata": {
        "cell_id": "00032-7459e66a-c83a-4d74-922a-80630a7f677a",
        "deepnote_cell_type": "markdown"
      }
    },
    {
      "cell_type": "code",
      "metadata": {
        "cell_id": "00033-752d01be-755c-4b52-9e3c-de3a83531f5b",
        "deepnote_to_be_reexecuted": false,
        "source_hash": "4b894c39",
        "execution_start": 1615266877911,
        "execution_millis": 86,
        "deepnote_cell_type": "code"
      },
      "source": "search.best_estimator_",
      "execution_count": 42,
      "outputs": [
        {
          "output_type": "execute_result",
          "execution_count": 42,
          "data": {
            "text/plain": "Pipeline(steps=[('imputation', SimpleImputer(strategy='most_frequent')),\n                ('preprocessing',\n                 ColumnTransformer(transformers=[('categorical',\n                                                  OneHotEncoder(handle_unknown='ignore'),\n                                                  hotel                              True\nis_canceled                       False\nlead_time                         False\narrival_date_year                 False\narrival_date_month                 True\narrival_date_week_number          False\narrival_date_day_of_month         False\nstays_in_weekend_nights           False\nstays_...\n                               importance_type='gain',\n                               interaction_constraints='',\n                               learning_rate=0.300000012, max_delta_step=0,\n                               max_depth=15, min_child_weight=1, missing=nan,\n                               monotone_constraints='()', n_estimators=100,\n                               n_jobs=4, num_parallel_tree=1, random_state=0,\n                               reg_alpha=0, reg_lambda=1, scale_pos_weight=1.69,\n                               subsample=1, tree_method='exact',\n                               use_label_encoder=False, validate_parameters=1,\n                               verbosity=None))])"
          },
          "metadata": {}
        }
      ]
    },
    {
      "cell_type": "code",
      "metadata": {
        "cell_id": "00034-afd47bb2-8671-4782-a289-846be16cdbaf",
        "deepnote_to_be_reexecuted": false,
        "source_hash": "d800743c",
        "execution_start": 1615266880572,
        "execution_millis": 24,
        "deepnote_cell_type": "code"
      },
      "source": "search.best_score_",
      "execution_count": 43,
      "outputs": [
        {
          "output_type": "execute_result",
          "execution_count": 43,
          "data": {
            "text/plain": "0.8762815215206272"
          },
          "metadata": {}
        }
      ]
    },
    {
      "cell_type": "markdown",
      "source": "## 1.6 Using ELI to get the best features from the fit pipeline and chosen model",
      "metadata": {
        "cell_id": "00035-16c35a78-f843-4fd1-9c1a-647a623ae25c",
        "deepnote_cell_type": "markdown"
      }
    },
    {
      "cell_type": "code",
      "metadata": {
        "cell_id": "00036-3e1194c7-dfbc-489b-8031-2648cd13f9ee",
        "deepnote_to_be_reexecuted": false,
        "source_hash": "667e24c0",
        "execution_millis": 1,
        "execution_start": 1615267720634,
        "deepnote_cell_type": "code"
      },
      "source": "# Here we try to find the columns used in the pipeline so that we can input it to ELI which will help us find the most important parameter\npipe=search.best_estimator_\nonehot_columns = list(pipe.named_steps['preprocessing'].named_transformers_['categorical'].get_feature_names())\nnumeric_features_list = list(X_train.columns[-categorical_cols])\nnumeric_features_list.extend(onehot_columns)\nnumeric_features_list.remove('company')\nnumeric_features_list.remove('reservation_status')\nnumeric_features_list.remove('reservation_status_date')\nnumeric_features_list.remove('agent')\nnumeric_features_list.remove('is_canceled')\n",
      "execution_count": 61,
      "outputs": []
    },
    {
      "cell_type": "code",
      "metadata": {
        "cell_id": "00037-eaa87aa4-4b58-4447-8746-1f2825e9e997",
        "deepnote_to_be_reexecuted": false,
        "source_hash": "97cf2ead",
        "execution_millis": 900,
        "execution_start": 1615267724338,
        "deepnote_cell_type": "code"
      },
      "source": "# we see that room type, customer type, country of origin are the most important variables\neli5.explain_weights(pipe.named_steps['MC'], top=50, feature_names=numeric_features_list)",
      "execution_count": 62,
      "outputs": [
        {
          "output_type": "execute_result",
          "execution_count": 62,
          "data": {
            "text/plain": "Explanation(estimator=\"XGBClassifier(base_score=0.5, booster='gbtree', colsample_bylevel=1,\\n              colsample_bynode=1, colsample_bytree=1, eta=0.3, gamma=0,\\n              gpu_id=-1, importance_type='gain', interaction_constraints='',\\n              learning_rate=0.300000012, max_delta_step=0, max_depth=15,\\n              min_child_weight=1, missing=nan, monotone_constraints='()',\\n              n_estimators=100, n_jobs=4, num_parallel_tree=1, random_state=0,\\n              reg_alpha=0, reg_lambda=1, scale_pos_weight=1.69, subsample=1,\\n              tree_method='exact', use_label_encoder=False,\\n              validate_parameters=1, verbosity=None)\", description='\\nXGBoost feature importances; values are numbers 0 <= x <= 1;\\nall values sum to 1.\\n', error=None, method='feature importances', is_regression=False, targets=None, feature_importances=FeatureImportances(importances=[FeatureWeight(feature='x6_G', weight=0.7956512, std=None, value=None), FeatureWeight(feature='x9_Transient', weight=0.053141918, std=None, value=None), FeatureWeight(feature='x3_UKR', weight=0.014745014, std=None, value=None), FeatureWeight(feature='x8_No Deposit', weight=0.010869705, std=None, value=None), FeatureWeight(feature='x6_F', weight=0.0083567025, std=None, value=None), FeatureWeight(feature='x3_MWI', weight=0.006040704, std=None, value=None), FeatureWeight(feature='x3_TWN', weight=0.0028174259, std=None, value=None), FeatureWeight(feature='x4_Offline TA/TO', weight=0.0027255395, std=None, value=None), FeatureWeight(feature='x7_A', weight=0.0026858775, std=None, value=None), FeatureWeight(feature='x1_August', weight=0.0022770753, std=None, value=None), FeatureWeight(feature='x9_Transient-Party', weight=0.0021552346, std=None, value=None), FeatureWeight(feature='x8_Non Refund', weight=0.0020715736, std=None, value=None), FeatureWeight(feature='x3_AZE', weight=0.0019289956, std=None, value=None), FeatureWeight(feature='x7_D', weight=0.0017264867, std=None, value=None), FeatureWeight(feature='x0_Resort Hotel', weight=0.0017248464, std=None, value=None), FeatureWeight(feature='x3_VGB', weight=0.0015732512, std=None, value=None), FeatureWeight(feature='x7_B', weight=0.0015399129, std=None, value=None), FeatureWeight(feature='x7_P', weight=0.001517869, std=None, value=None), FeatureWeight(feature='x9_Contract', weight=0.0014297982, std=None, value=None), FeatureWeight(feature='x4_Undefined', weight=0.001395616, std=None, value=None), FeatureWeight(feature='x6_B', weight=0.0013497784, std=None, value=None), FeatureWeight(feature='x3_BOL', weight=0.0013197192, std=None, value=None), FeatureWeight(feature='x3_VNM', weight=0.0012601276, std=None, value=None), FeatureWeight(feature='x3_KAZ', weight=0.0012364149, std=None, value=None), FeatureWeight(feature='x3_GIB', weight=0.0012312608, std=None, value=None), FeatureWeight(feature='x3_PRT', weight=0.0012293694, std=None, value=None), FeatureWeight(feature='x3_COM', weight=0.00110245, std=None, value=None), FeatureWeight(feature='x3_TZA', weight=0.0011007773, std=None, value=None), FeatureWeight(feature='x8_Refundable', weight=0.00108841, std=None, value=None), FeatureWeight(feature='x1_January', weight=0.0010674823, std=None, value=None), FeatureWeight(feature='x3_MCO', weight=0.001038113, std=None, value=None), FeatureWeight(feature='x3_UZB', weight=0.0010324648, std=None, value=None), FeatureWeight(feature='x3_USA', weight=0.0010150598, std=None, value=None), FeatureWeight(feature='x3_GBR', weight=0.0009817441, std=None, value=None), FeatureWeight(feature='x2_HB', weight=0.00097653695, std=None, value=None), FeatureWeight(feature='x3_PRY', weight=0.0009635241, std=None, value=None), FeatureWeight(feature='lead_time', weight=0.00095644494, std=None, value=None), FeatureWeight(feature='x5_Undefined', weight=0.00093475706, std=None, value=None), FeatureWeight(feature='x3_CMR', weight=0.00093376, std=None, value=None), FeatureWeight(feature='required_car_parking_spaces', weight=0.0009330656, std=None, value=None), FeatureWeight(feature='x3_TMP', weight=0.00091851974, std=None, value=None), FeatureWeight(feature='x3_ASM', weight=0.0009143816, std=None, value=None), FeatureWeight(feature='x3_GHA', weight=0.00091428915, std=None, value=None), FeatureWeight(feature='x3_MAR', weight=0.0009122224, std=None, value=None), FeatureWeight(feature='x3_FIN', weight=0.00091022416, std=None, value=None), FeatureWeight(feature='x4_Online TA', weight=0.0008990199, std=None, value=None), FeatureWeight(feature='x5_TA/TO', weight=0.0008921059, std=None, value=None), FeatureWeight(feature='x1_September', weight=0.00082579296, std=None, value=None), FeatureWeight(feature='x3_UGA', weight=0.0008105528, std=None, value=None), FeatureWeight(feature='x7_C', weight=0.0008069724, std=None, value=None)], remaining=197), decision_tree=None, highlight_spaces=None, transition_features=None, image=None)",
            "text/html": "\n    <style>\n    table.eli5-weights tr:hover {\n        filter: brightness(85%);\n    }\n</style>\n\n\n\n    \n\n    \n\n    \n\n    \n\n    \n\n    \n\n\n    \n\n    \n\n    \n\n    \n\n    \n\n    \n\n\n    \n\n    \n\n    \n\n    \n\n    \n        <table class=\"eli5-weights eli5-feature-importances\" style=\"border-collapse: collapse; border: none; margin-top: 0em; table-layout: auto;\">\n    <thead>\n    <tr style=\"border: none;\">\n        <th style=\"padding: 0 1em 0 0.5em; text-align: right; border: none;\">Weight</th>\n        <th style=\"padding: 0 0.5em 0 0.5em; text-align: left; border: none;\">Feature</th>\n    </tr>\n    </thead>\n    <tbody>\n    \n        <tr style=\"background-color: hsl(120, 100.00%, 80.00%); border: none;\">\n            <td style=\"padding: 0 1em 0 0.5em; text-align: right; border: none;\">\n                0.7957\n                \n            </td>\n            <td style=\"padding: 0 0.5em 0 0.5em; text-align: left; border: none;\">\n                x6_G\n            </td>\n        </tr>\n    \n        <tr style=\"background-color: hsl(120, 100.00%, 96.99%); border: none;\">\n            <td style=\"padding: 0 1em 0 0.5em; text-align: right; border: none;\">\n                0.0531\n                \n            </td>\n            <td style=\"padding: 0 0.5em 0 0.5em; text-align: left; border: none;\">\n                x9_Transient\n            </td>\n        </tr>\n    \n        <tr style=\"background-color: hsl(120, 100.00%, 98.77%); border: none;\">\n            <td style=\"padding: 0 1em 0 0.5em; text-align: right; border: none;\">\n                0.0147\n                \n            </td>\n            <td style=\"padding: 0 0.5em 0 0.5em; text-align: left; border: none;\">\n                x3_UKR\n            </td>\n        </tr>\n    \n        <tr style=\"background-color: hsl(120, 100.00%, 99.01%); border: none;\">\n            <td style=\"padding: 0 1em 0 0.5em; text-align: right; border: none;\">\n                0.0109\n                \n            </td>\n            <td style=\"padding: 0 0.5em 0 0.5em; text-align: left; border: none;\">\n                x8_No Deposit\n            </td>\n        </tr>\n    \n        <tr style=\"background-color: hsl(120, 100.00%, 99.18%); border: none;\">\n            <td style=\"padding: 0 1em 0 0.5em; text-align: right; border: none;\">\n                0.0084\n                \n            </td>\n            <td style=\"padding: 0 0.5em 0 0.5em; text-align: left; border: none;\">\n                x6_F\n            </td>\n        </tr>\n    \n        <tr style=\"background-color: hsl(120, 100.00%, 99.34%); border: none;\">\n            <td style=\"padding: 0 1em 0 0.5em; text-align: right; border: none;\">\n                0.0060\n                \n            </td>\n            <td style=\"padding: 0 0.5em 0 0.5em; text-align: left; border: none;\">\n                x3_MWI\n            </td>\n        </tr>\n    \n        <tr style=\"background-color: hsl(120, 100.00%, 99.62%); border: none;\">\n            <td style=\"padding: 0 1em 0 0.5em; text-align: right; border: none;\">\n                0.0028\n                \n            </td>\n            <td style=\"padding: 0 0.5em 0 0.5em; text-align: left; border: none;\">\n                x3_TWN\n            </td>\n        </tr>\n    \n        <tr style=\"background-color: hsl(120, 100.00%, 99.62%); border: none;\">\n            <td style=\"padding: 0 1em 0 0.5em; text-align: right; border: none;\">\n                0.0027\n                \n            </td>\n            <td style=\"padding: 0 0.5em 0 0.5em; text-align: left; border: none;\">\n                x4_Offline TA/TO\n            </td>\n        </tr>\n    \n        <tr style=\"background-color: hsl(120, 100.00%, 99.63%); border: none;\">\n            <td style=\"padding: 0 1em 0 0.5em; text-align: right; border: none;\">\n                0.0027\n                \n            </td>\n            <td style=\"padding: 0 0.5em 0 0.5em; text-align: left; border: none;\">\n                x7_A\n            </td>\n        </tr>\n    \n        <tr style=\"background-color: hsl(120, 100.00%, 99.67%); border: none;\">\n            <td style=\"padding: 0 1em 0 0.5em; text-align: right; border: none;\">\n                0.0023\n                \n            </td>\n            <td style=\"padding: 0 0.5em 0 0.5em; text-align: left; border: none;\">\n                x1_August\n            </td>\n        </tr>\n    \n        <tr style=\"background-color: hsl(120, 100.00%, 99.68%); border: none;\">\n            <td style=\"padding: 0 1em 0 0.5em; text-align: right; border: none;\">\n                0.0022\n                \n            </td>\n            <td style=\"padding: 0 0.5em 0 0.5em; text-align: left; border: none;\">\n                x9_Transient-Party\n            </td>\n        </tr>\n    \n        <tr style=\"background-color: hsl(120, 100.00%, 99.69%); border: none;\">\n            <td style=\"padding: 0 1em 0 0.5em; text-align: right; border: none;\">\n                0.0021\n                \n            </td>\n            <td style=\"padding: 0 0.5em 0 0.5em; text-align: left; border: none;\">\n                x8_Non Refund\n            </td>\n        </tr>\n    \n        <tr style=\"background-color: hsl(120, 100.00%, 99.70%); border: none;\">\n            <td style=\"padding: 0 1em 0 0.5em; text-align: right; border: none;\">\n                0.0019\n                \n            </td>\n            <td style=\"padding: 0 0.5em 0 0.5em; text-align: left; border: none;\">\n                x3_AZE\n            </td>\n        </tr>\n    \n        <tr style=\"background-color: hsl(120, 100.00%, 99.73%); border: none;\">\n            <td style=\"padding: 0 1em 0 0.5em; text-align: right; border: none;\">\n                0.0017\n                \n            </td>\n            <td style=\"padding: 0 0.5em 0 0.5em; text-align: left; border: none;\">\n                x7_D\n            </td>\n        </tr>\n    \n        <tr style=\"background-color: hsl(120, 100.00%, 99.73%); border: none;\">\n            <td style=\"padding: 0 1em 0 0.5em; text-align: right; border: none;\">\n                0.0017\n                \n            </td>\n            <td style=\"padding: 0 0.5em 0 0.5em; text-align: left; border: none;\">\n                x0_Resort Hotel\n            </td>\n        </tr>\n    \n        <tr style=\"background-color: hsl(120, 100.00%, 99.74%); border: none;\">\n            <td style=\"padding: 0 1em 0 0.5em; text-align: right; border: none;\">\n                0.0016\n                \n            </td>\n            <td style=\"padding: 0 0.5em 0 0.5em; text-align: left; border: none;\">\n                x3_VGB\n            </td>\n        </tr>\n    \n        <tr style=\"background-color: hsl(120, 100.00%, 99.75%); border: none;\">\n            <td style=\"padding: 0 1em 0 0.5em; text-align: right; border: none;\">\n                0.0015\n                \n            </td>\n            <td style=\"padding: 0 0.5em 0 0.5em; text-align: left; border: none;\">\n                x7_B\n            </td>\n        </tr>\n    \n        <tr style=\"background-color: hsl(120, 100.00%, 99.75%); border: none;\">\n            <td style=\"padding: 0 1em 0 0.5em; text-align: right; border: none;\">\n                0.0015\n                \n            </td>\n            <td style=\"padding: 0 0.5em 0 0.5em; text-align: left; border: none;\">\n                x7_P\n            </td>\n        </tr>\n    \n        <tr style=\"background-color: hsl(120, 100.00%, 99.76%); border: none;\">\n            <td style=\"padding: 0 1em 0 0.5em; text-align: right; border: none;\">\n                0.0014\n                \n            </td>\n            <td style=\"padding: 0 0.5em 0 0.5em; text-align: left; border: none;\">\n                x9_Contract\n            </td>\n        </tr>\n    \n        <tr style=\"background-color: hsl(120, 100.00%, 99.76%); border: none;\">\n            <td style=\"padding: 0 1em 0 0.5em; text-align: right; border: none;\">\n                0.0014\n                \n            </td>\n            <td style=\"padding: 0 0.5em 0 0.5em; text-align: left; border: none;\">\n                x4_Undefined\n            </td>\n        </tr>\n    \n        <tr style=\"background-color: hsl(120, 100.00%, 99.77%); border: none;\">\n            <td style=\"padding: 0 1em 0 0.5em; text-align: right; border: none;\">\n                0.0013\n                \n            </td>\n            <td style=\"padding: 0 0.5em 0 0.5em; text-align: left; border: none;\">\n                x6_B\n            </td>\n        </tr>\n    \n        <tr style=\"background-color: hsl(120, 100.00%, 99.77%); border: none;\">\n            <td style=\"padding: 0 1em 0 0.5em; text-align: right; border: none;\">\n                0.0013\n                \n            </td>\n            <td style=\"padding: 0 0.5em 0 0.5em; text-align: left; border: none;\">\n                x3_BOL\n            </td>\n        </tr>\n    \n        <tr style=\"background-color: hsl(120, 100.00%, 99.78%); border: none;\">\n            <td style=\"padding: 0 1em 0 0.5em; text-align: right; border: none;\">\n                0.0013\n                \n            </td>\n            <td style=\"padding: 0 0.5em 0 0.5em; text-align: left; border: none;\">\n                x3_VNM\n            </td>\n        </tr>\n    \n        <tr style=\"background-color: hsl(120, 100.00%, 99.78%); border: none;\">\n            <td style=\"padding: 0 1em 0 0.5em; text-align: right; border: none;\">\n                0.0012\n                \n            </td>\n            <td style=\"padding: 0 0.5em 0 0.5em; text-align: left; border: none;\">\n                x3_KAZ\n            </td>\n        </tr>\n    \n        <tr style=\"background-color: hsl(120, 100.00%, 99.78%); border: none;\">\n            <td style=\"padding: 0 1em 0 0.5em; text-align: right; border: none;\">\n                0.0012\n                \n            </td>\n            <td style=\"padding: 0 0.5em 0 0.5em; text-align: left; border: none;\">\n                x3_GIB\n            </td>\n        </tr>\n    \n        <tr style=\"background-color: hsl(120, 100.00%, 99.78%); border: none;\">\n            <td style=\"padding: 0 1em 0 0.5em; text-align: right; border: none;\">\n                0.0012\n                \n            </td>\n            <td style=\"padding: 0 0.5em 0 0.5em; text-align: left; border: none;\">\n                x3_PRT\n            </td>\n        </tr>\n    \n        <tr style=\"background-color: hsl(120, 100.00%, 99.80%); border: none;\">\n            <td style=\"padding: 0 1em 0 0.5em; text-align: right; border: none;\">\n                0.0011\n                \n            </td>\n            <td style=\"padding: 0 0.5em 0 0.5em; text-align: left; border: none;\">\n                x3_COM\n            </td>\n        </tr>\n    \n        <tr style=\"background-color: hsl(120, 100.00%, 99.80%); border: none;\">\n            <td style=\"padding: 0 1em 0 0.5em; text-align: right; border: none;\">\n                0.0011\n                \n            </td>\n            <td style=\"padding: 0 0.5em 0 0.5em; text-align: left; border: none;\">\n                x3_TZA\n            </td>\n        </tr>\n    \n        <tr style=\"background-color: hsl(120, 100.00%, 99.80%); border: none;\">\n            <td style=\"padding: 0 1em 0 0.5em; text-align: right; border: none;\">\n                0.0011\n                \n            </td>\n            <td style=\"padding: 0 0.5em 0 0.5em; text-align: left; border: none;\">\n                x8_Refundable\n            </td>\n        </tr>\n    \n        <tr style=\"background-color: hsl(120, 100.00%, 99.80%); border: none;\">\n            <td style=\"padding: 0 1em 0 0.5em; text-align: right; border: none;\">\n                0.0011\n                \n            </td>\n            <td style=\"padding: 0 0.5em 0 0.5em; text-align: left; border: none;\">\n                x1_January\n            </td>\n        </tr>\n    \n        <tr style=\"background-color: hsl(120, 100.00%, 99.81%); border: none;\">\n            <td style=\"padding: 0 1em 0 0.5em; text-align: right; border: none;\">\n                0.0010\n                \n            </td>\n            <td style=\"padding: 0 0.5em 0 0.5em; text-align: left; border: none;\">\n                x3_MCO\n            </td>\n        </tr>\n    \n        <tr style=\"background-color: hsl(120, 100.00%, 99.81%); border: none;\">\n            <td style=\"padding: 0 1em 0 0.5em; text-align: right; border: none;\">\n                0.0010\n                \n            </td>\n            <td style=\"padding: 0 0.5em 0 0.5em; text-align: left; border: none;\">\n                x3_UZB\n            </td>\n        </tr>\n    \n        <tr style=\"background-color: hsl(120, 100.00%, 99.81%); border: none;\">\n            <td style=\"padding: 0 1em 0 0.5em; text-align: right; border: none;\">\n                0.0010\n                \n            </td>\n            <td style=\"padding: 0 0.5em 0 0.5em; text-align: left; border: none;\">\n                x3_USA\n            </td>\n        </tr>\n    \n        <tr style=\"background-color: hsl(120, 100.00%, 99.82%); border: none;\">\n            <td style=\"padding: 0 1em 0 0.5em; text-align: right; border: none;\">\n                0.0010\n                \n            </td>\n            <td style=\"padding: 0 0.5em 0 0.5em; text-align: left; border: none;\">\n                x3_GBR\n            </td>\n        </tr>\n    \n        <tr style=\"background-color: hsl(120, 100.00%, 99.82%); border: none;\">\n            <td style=\"padding: 0 1em 0 0.5em; text-align: right; border: none;\">\n                0.0010\n                \n            </td>\n            <td style=\"padding: 0 0.5em 0 0.5em; text-align: left; border: none;\">\n                x2_HB\n            </td>\n        </tr>\n    \n        <tr style=\"background-color: hsl(120, 100.00%, 99.82%); border: none;\">\n            <td style=\"padding: 0 1em 0 0.5em; text-align: right; border: none;\">\n                0.0010\n                \n            </td>\n            <td style=\"padding: 0 0.5em 0 0.5em; text-align: left; border: none;\">\n                x3_PRY\n            </td>\n        </tr>\n    \n        <tr style=\"background-color: hsl(120, 100.00%, 99.82%); border: none;\">\n            <td style=\"padding: 0 1em 0 0.5em; text-align: right; border: none;\">\n                0.0010\n                \n            </td>\n            <td style=\"padding: 0 0.5em 0 0.5em; text-align: left; border: none;\">\n                lead_time\n            </td>\n        </tr>\n    \n        <tr style=\"background-color: hsl(120, 100.00%, 99.82%); border: none;\">\n            <td style=\"padding: 0 1em 0 0.5em; text-align: right; border: none;\">\n                0.0009\n                \n            </td>\n            <td style=\"padding: 0 0.5em 0 0.5em; text-align: left; border: none;\">\n                x5_Undefined\n            </td>\n        </tr>\n    \n        <tr style=\"background-color: hsl(120, 100.00%, 99.82%); border: none;\">\n            <td style=\"padding: 0 1em 0 0.5em; text-align: right; border: none;\">\n                0.0009\n                \n            </td>\n            <td style=\"padding: 0 0.5em 0 0.5em; text-align: left; border: none;\">\n                x3_CMR\n            </td>\n        </tr>\n    \n        <tr style=\"background-color: hsl(120, 100.00%, 99.82%); border: none;\">\n            <td style=\"padding: 0 1em 0 0.5em; text-align: right; border: none;\">\n                0.0009\n                \n            </td>\n            <td style=\"padding: 0 0.5em 0 0.5em; text-align: left; border: none;\">\n                required_car_parking_spaces\n            </td>\n        </tr>\n    \n        <tr style=\"background-color: hsl(120, 100.00%, 99.82%); border: none;\">\n            <td style=\"padding: 0 1em 0 0.5em; text-align: right; border: none;\">\n                0.0009\n                \n            </td>\n            <td style=\"padding: 0 0.5em 0 0.5em; text-align: left; border: none;\">\n                x3_TMP\n            </td>\n        </tr>\n    \n        <tr style=\"background-color: hsl(120, 100.00%, 99.82%); border: none;\">\n            <td style=\"padding: 0 1em 0 0.5em; text-align: right; border: none;\">\n                0.0009\n                \n            </td>\n            <td style=\"padding: 0 0.5em 0 0.5em; text-align: left; border: none;\">\n                x3_ASM\n            </td>\n        </tr>\n    \n        <tr style=\"background-color: hsl(120, 100.00%, 99.82%); border: none;\">\n            <td style=\"padding: 0 1em 0 0.5em; text-align: right; border: none;\">\n                0.0009\n                \n            </td>\n            <td style=\"padding: 0 0.5em 0 0.5em; text-align: left; border: none;\">\n                x3_GHA\n            </td>\n        </tr>\n    \n        <tr style=\"background-color: hsl(120, 100.00%, 99.83%); border: none;\">\n            <td style=\"padding: 0 1em 0 0.5em; text-align: right; border: none;\">\n                0.0009\n                \n            </td>\n            <td style=\"padding: 0 0.5em 0 0.5em; text-align: left; border: none;\">\n                x3_MAR\n            </td>\n        </tr>\n    \n        <tr style=\"background-color: hsl(120, 100.00%, 99.83%); border: none;\">\n            <td style=\"padding: 0 1em 0 0.5em; text-align: right; border: none;\">\n                0.0009\n                \n            </td>\n            <td style=\"padding: 0 0.5em 0 0.5em; text-align: left; border: none;\">\n                x3_FIN\n            </td>\n        </tr>\n    \n        <tr style=\"background-color: hsl(120, 100.00%, 99.83%); border: none;\">\n            <td style=\"padding: 0 1em 0 0.5em; text-align: right; border: none;\">\n                0.0009\n                \n            </td>\n            <td style=\"padding: 0 0.5em 0 0.5em; text-align: left; border: none;\">\n                x4_Online TA\n            </td>\n        </tr>\n    \n        <tr style=\"background-color: hsl(120, 100.00%, 99.83%); border: none;\">\n            <td style=\"padding: 0 1em 0 0.5em; text-align: right; border: none;\">\n                0.0009\n                \n            </td>\n            <td style=\"padding: 0 0.5em 0 0.5em; text-align: left; border: none;\">\n                x5_TA/TO\n            </td>\n        </tr>\n    \n        <tr style=\"background-color: hsl(120, 100.00%, 99.84%); border: none;\">\n            <td style=\"padding: 0 1em 0 0.5em; text-align: right; border: none;\">\n                0.0008\n                \n            </td>\n            <td style=\"padding: 0 0.5em 0 0.5em; text-align: left; border: none;\">\n                x1_September\n            </td>\n        </tr>\n    \n        <tr style=\"background-color: hsl(120, 100.00%, 99.84%); border: none;\">\n            <td style=\"padding: 0 1em 0 0.5em; text-align: right; border: none;\">\n                0.0008\n                \n            </td>\n            <td style=\"padding: 0 0.5em 0 0.5em; text-align: left; border: none;\">\n                x3_UGA\n            </td>\n        </tr>\n    \n        <tr style=\"background-color: hsl(120, 100.00%, 99.84%); border: none;\">\n            <td style=\"padding: 0 1em 0 0.5em; text-align: right; border: none;\">\n                0.0008\n                \n            </td>\n            <td style=\"padding: 0 0.5em 0 0.5em; text-align: left; border: none;\">\n                x7_C\n            </td>\n        </tr>\n    \n    \n        \n            <tr style=\"background-color: hsl(120, 100.00%, 99.84%); border: none;\">\n                <td colspan=\"2\" style=\"padding: 0 0.5em 0 0.5em; text-align: center; border: none; white-space: nowrap;\">\n                    <i>&hellip; 197 more &hellip;</i>\n                </td>\n            </tr>\n        \n    \n    </tbody>\n</table>\n    \n\n    \n\n\n    \n\n    \n\n    \n\n    \n\n    \n\n    \n\n\n\n"
          },
          "metadata": {}
        }
      ]
    },
    {
      "cell_type": "markdown",
      "source": "## 1.7 Fitting selected model on final train dataset",
      "metadata": {
        "cell_id": "00038-41b8b529-92f3-4634-b7f6-b424367bae2a",
        "deepnote_cell_type": "markdown"
      }
    },
    {
      "cell_type": "code",
      "metadata": {
        "cell_id": "00039-db696469-b473-416f-900c-d3887c4a0f63",
        "deepnote_to_be_reexecuted": false,
        "source_hash": "10086cb",
        "execution_start": 1615267731817,
        "execution_millis": 1,
        "deepnote_cell_type": "code"
      },
      "source": "pipe=search.best_estimator_\n",
      "execution_count": 63,
      "outputs": []
    },
    {
      "cell_type": "code",
      "metadata": {
        "cell_id": "00040-59763dbc-5811-4857-94ca-71629031438b",
        "deepnote_to_be_reexecuted": false,
        "source_hash": "44a39bb",
        "execution_start": 1615267733706,
        "execution_millis": 104261,
        "deepnote_cell_type": "code"
      },
      "source": "pipe.fit(X_train,y_train)",
      "execution_count": 64,
      "outputs": [
        {
          "name": "stdout",
          "text": "[05:28:56] WARNING: ../src/learner.cc:1061: Starting in XGBoost 1.3.0, the default evaluation metric used with the objective 'binary:logistic' was changed from 'error' to 'logloss'. Explicitly set eval_metric if you'd like to restore the old behavior.\n",
          "output_type": "stream"
        },
        {
          "output_type": "execute_result",
          "execution_count": 64,
          "data": {
            "text/plain": "Pipeline(steps=[('imputation', SimpleImputer(strategy='most_frequent')),\n                ('preprocessing',\n                 ColumnTransformer(transformers=[('categorical',\n                                                  OneHotEncoder(handle_unknown='ignore'),\n                                                  hotel                              True\nis_canceled                       False\nlead_time                         False\narrival_date_year                 False\narrival_date_month                 True\narrival_date_week_number          False\narrival_date_day_of_month         False\nstays_in_weekend_nights           False\nstays_...\n                               importance_type='gain',\n                               interaction_constraints='',\n                               learning_rate=0.300000012, max_delta_step=0,\n                               max_depth=15, min_child_weight=1, missing=nan,\n                               monotone_constraints='()', n_estimators=100,\n                               n_jobs=4, num_parallel_tree=1, random_state=0,\n                               reg_alpha=0, reg_lambda=1, scale_pos_weight=1.69,\n                               subsample=1, tree_method='exact',\n                               use_label_encoder=False, validate_parameters=1,\n                               verbosity=None))])"
          },
          "metadata": {}
        }
      ]
    },
    {
      "cell_type": "code",
      "metadata": {
        "cell_id": "00041-bd48fb31-7dc8-482b-9303-0513526db7b7",
        "deepnote_to_be_reexecuted": false,
        "source_hash": "3b88ad86",
        "execution_start": 1615267837967,
        "execution_millis": 734,
        "deepnote_cell_type": "code"
      },
      "source": "y_pred=pipe.predict(X_test)",
      "execution_count": 65,
      "outputs": []
    },
    {
      "cell_type": "markdown",
      "source": "## 1.8 Evaluating Model performance on Test set",
      "metadata": {
        "cell_id": "00042-3af32b8a-f117-4be6-865d-fcef5d35660b",
        "deepnote_cell_type": "markdown"
      }
    },
    {
      "cell_type": "code",
      "metadata": {
        "cell_id": "00043-36ea6350-5cb5-42bb-b73e-70b6c401cae1",
        "deepnote_to_be_reexecuted": false,
        "source_hash": "cf0f99d2",
        "execution_start": 1615267838705,
        "execution_millis": 23,
        "deepnote_cell_type": "code"
      },
      "source": "# We choose weighted fscore since we have imbalanced classification data.\nprint(\"Weighted f1 score is:\",f1_score(y_test, y_pred, average='weighted'))",
      "execution_count": 66,
      "outputs": [
        {
          "name": "stdout",
          "text": "Weighted f1 score is: 0.8869490259630558\n",
          "output_type": "stream"
        }
      ]
    },
    {
      "cell_type": "code",
      "metadata": {
        "cell_id": "00044-22ffc446-629d-4823-9053-41bc5a1651c3",
        "deepnote_to_be_reexecuted": false,
        "source_hash": "dbb9fe73",
        "execution_start": 1615267838724,
        "execution_millis": 282,
        "deepnote_cell_type": "code"
      },
      "source": "# The confusion matrix helps us visualise the precision and recall. Its important for us that we are able to identify users who are cancelling correctly.\n# We are able to predict users who cancelled (TP) 85% of the times. Thats good accuracy\nconfusio_matrix(y_test, y_pred)",
      "execution_count": 67,
      "outputs": [
        {
          "data": {
            "text/plain": "<Figure size 720x720 with 1 Axes>",
            "image/png": "[encoded data removed]"
          },
          "metadata": {
            "needs_background": "light"
          },
          "output_type": "display_data"
        }
      ]
    },
    {
      "cell_type": "code",
      "metadata": {
        "cell_id": "00045-83322e91-b327-4e72-9e33-0956ac19a232",
        "deepnote_to_be_reexecuted": false,
        "source_hash": "8503ee8",
        "execution_start": 1615267839001,
        "execution_millis": 86,
        "deepnote_cell_type": "code"
      },
      "source": "# We are able to precisely predict the 0s and 1s with 91% and 85% accuracy.\n\nprint(classification_report(y_test, y_pred, target_names=['0','1']))",
      "execution_count": 68,
      "outputs": [
        {
          "name": "stdout",
          "text": "              precision    recall  f1-score   support\n\n           0       0.91      0.91      0.91     18788\n           1       0.85      0.84      0.85     11060\n\n    accuracy                           0.89     29848\n   macro avg       0.88      0.88      0.88     29848\nweighted avg       0.89      0.89      0.89     29848\n\n",
          "output_type": "stream"
        }
      ]
    },
    {
      "cell_type": "markdown",
      "source": "## 1.9 Conclusion",
      "metadata": {
        "cell_id": "00046-fbee6abd-3b57-4e2d-aa18-cb9b87ff3e8b",
        "deepnote_cell_type": "markdown"
      }
    },
    {
      "cell_type": "markdown",
      "source": "### 1. Regularised models and trees do not get impacted by outliers, hence the models show good results despite some outliers in the data\n\n### 2. After gridSearch and hyperparameter tunnig we found XGBoost is the best model in indentifying whether a user cancelled his booking or not.\n\n### 3. XgBoost worked the best because it adds regularization to the loss function to reduce model complexity and increase generalisation. \n\n### 3. We adjusted the model weights due to class imbalance in target variable. Our final model has a overall balanced accuracy score 88.69%. \n\n### 4. It classifies 85% of the users who cancelled correctly and 91% who did not cancel correctly.\n\n",
      "metadata": {
        "cell_id": "00047-024ace2f-7d1b-4efc-be58-9afe345e75a1",
        "deepnote_cell_type": "markdown"
      }
    },
    {
      "cell_type": "markdown",
      "source": "## 1.10 How can this model be used?",
      "metadata": {
        "cell_id": "00048-35307b71-2b21-428d-a26b-136727017c09",
        "deepnote_cell_type": "markdown"
      }
    },
    {
      "cell_type": "markdown",
      "source": "### 1. This model will be helpful in highlighting the bookings which have high propensity of cancellation. \n\n### 2. The hotels can use this model to impose high cancellation fee on bookings which the model has detected as likely to be cancelled. This will discourage the customer from cancelling or the booking will be done by a user who is less likely to cancel",
      "metadata": {
        "cell_id": "00049-238b2486-e9de-439b-91fb-ab25bc2c666b",
        "deepnote_cell_type": "markdown"
      }
    },
    {
      "cell_type": "markdown",
      "source": "## 1.11 Next steps for the model ",
      "metadata": {
        "cell_id": "00050-29ca0fa1-1dbc-4fe0-8994-cd9deda1e6cc",
        "deepnote_cell_type": "markdown"
      }
    },
    {
      "cell_type": "markdown",
      "source": "### 1. The model currently uses a snippet of data on a fixed timeframe (from July 2015 to August 2017). With time the needs of the customers can evolve, and hence productionising this code on dynamic datasets will help \n### 2. Its normal for users to change some atttributes of their booking at the last moment, which can influence the model results. Its important that the model is scaled and productionised so that the model stays updated",
      "metadata": {
        "cell_id": "00051-052a1aeb-9ac3-44e7-835b-626ebf974b1c",
        "deepnote_cell_type": "markdown"
      }
    },
    {
      "cell_type": "code",
      "metadata": {
        "cell_id": "00052-412c3be5-ad05-4f16-b9f7-5aaaa2e9e027",
        "deepnote_cell_type": "code"
      },
      "source": "",
      "execution_count": null,
      "outputs": []
    },
    {
      "cell_type": "markdown",
      "source": "<a style='text-decoration:none;line-height:16px;display:flex;color:#5B5B62;padding:10px;justify-content:end;' href='https://deepnote.com?utm_source=created-in-deepnote-cell&projectId=aa268a46-3542-4a0a-85f2-14c43bc3e6e2' target=\"_blank\">\n<img style='display:inline;max-height:16px;margin:0px;margin-right:7.5px;' src='data:image/svg+xml;base64,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' > </img>\nCreated in <span style='font-weight:600;margin-left:4px;'>Deepnote</span></a>",
      "metadata": {
        "tags": [],
        "created_in_deepnote_cell": true,
        "deepnote_cell_type": "markdown"
      }
    }
  ],
  "nbformat": 4,
  "nbformat_minor": 5,
  "metadata": {
    "kernelspec": {
      "display_name": "Python 3",
      "language": "python",
      "name": "python3"
    },
    "language_info": {
      "codemirror_mode": {
        "name": "ipython",
        "version": 3
      },
      "file_extension": ".py",
      "mimetype": "text/x-python",
      "name": "python",
      "nbconvert_exporter": "python",
      "pygments_lexer": "ipython3",
      "version": "3.8.8"
    },
    "latex_envs": {
      "LaTeX_envs_menu_present": true,
      "autoclose": false,
      "autocomplete": true,
      "bibliofile": "biblio.bib",
      "cite_by": "apalike",
      "current_citInitial": 1,
      "eqLabelWithNumbers": true,
      "eqNumInitial": 1,
      "hotkeys": {
        "equation": "Ctrl-E",
        "itemize": "Ctrl-I"
      },
      "labels_anchors": false,
      "latex_user_defs": false,
      "report_style_numbering": false,
      "user_envs_cfg": false
    },
    "deepnote_notebook_id": "98f06e67-5d7d-46eb-82aa-23477bcbc9c9",
    "deepnote": {},
    "deepnote_execution_queue": []
  }
}